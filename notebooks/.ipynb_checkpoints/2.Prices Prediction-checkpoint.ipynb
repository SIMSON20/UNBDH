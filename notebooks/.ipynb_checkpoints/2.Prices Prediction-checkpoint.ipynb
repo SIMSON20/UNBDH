{
 "cells": [
  {
   "cell_type": "markdown",
   "id": "4a41da6c",
   "metadata": {},
   "source": [
    "## Libraries"
   ]
  },
  {
   "cell_type": "code",
   "execution_count": 1,
   "id": "ed580666",
   "metadata": {},
   "outputs": [],
   "source": [
    "import os \n",
    "\n",
    "import numpy as np \n",
    "import pandas as pd\n",
    "\n",
    "from tqdm import tqdm\n",
    "import matplotlib.pyplot as plt \n",
    "plt.style.use('fivethirtyeight')\n",
    "import seaborn as sns\n",
    "import pandas as pd\n",
    "from sklearn.preprocessing import MinMaxScaler\n",
    "from keras.models import Sequential\n",
    "from keras.layers import Dense, LSTM, Dropout, GRU, Bidirectional\n",
    "from keras.optimizers import SGD\n",
    "import math\n",
    "from sklearn.metrics import mean_squared_error\n",
    "\n",
    "from prophet import Prophet"
   ]
  },
  {
   "cell_type": "markdown",
   "id": "fe7207de",
   "metadata": {},
   "source": [
    "## Seeding"
   ]
  },
  {
   "cell_type": "code",
   "execution_count": 2,
   "id": "4b893c15",
   "metadata": {},
   "outputs": [],
   "source": [
    "import random\n",
    "np.random.seed(2024)\n",
    "random.seed(2024)"
   ]
  },
  {
   "cell_type": "markdown",
   "id": "f1741bd9",
   "metadata": {},
   "source": [
    "## Utils functions"
   ]
  },
  {
   "cell_type": "code",
   "execution_count": 3,
   "id": "83c3c319",
   "metadata": {},
   "outputs": [],
   "source": [
    "# Some functions to help out with\n",
    "def plot_predictions(test,predicted, commodity, market):\n",
    "    plt.plot(test, color='red',label=f'Real {commodity} Price in {market}')\n",
    "    plt.plot(predicted, color='blue',label=f'Predicted {commodity} Price in {market}')\n",
    "    plt.title(f'{commodity} Price Prediction in {market}')\n",
    "    plt.xlabel('Time')\n",
    "    plt.ylabel(f'{commodity} Price in {market}')\n",
    "    plt.legend()\n",
    "    plt.show()\n",
    "\n",
    "def return_rmse(test,predicted):\n",
    "    rmse = math.sqrt(mean_squared_error(test, predicted))\n",
    "    return rmse\n",
    "    print(\"The root mean squared error is {}.\".format(rmse))"
   ]
  },
  {
   "cell_type": "markdown",
   "id": "5f15605b",
   "metadata": {},
   "source": [
    "## Reading Data"
   ]
  },
  {
   "cell_type": "code",
   "execution_count": 4,
   "id": "3bf66a9e",
   "metadata": {},
   "outputs": [],
   "source": [
    "wfp_ghana = pd.read_csv(\"../data/wfp_food_prices_gha.csv.xls\")\n",
    "wfp_ghana.drop(0, inplace=True)"
   ]
  },
  {
   "cell_type": "code",
   "execution_count": 5,
   "id": "e625e493",
   "metadata": {},
   "outputs": [],
   "source": [
    "# convert to datetime\n",
    "wfp_ghana[\"date\"] = pd.to_datetime(wfp_ghana[\"date\"])"
   ]
  },
  {
   "cell_type": "code",
   "execution_count": 6,
   "id": "4e45391b",
   "metadata": {},
   "outputs": [],
   "source": [
    "wfp_ghana[\"latitude\"] = pd.to_numeric(wfp_ghana[\"latitude\"])\n",
    "wfp_ghana[\"longitude\"] = pd.to_numeric(wfp_ghana[\"longitude\"])\n",
    "wfp_ghana[\"price\"] = pd.to_numeric(wfp_ghana[\"price\"])\n",
    "wfp_ghana[\"usdprice\"] = pd.to_numeric(wfp_ghana[\"usdprice\"])"
   ]
  },
  {
   "cell_type": "code",
   "execution_count": 7,
   "id": "ae400585",
   "metadata": {},
   "outputs": [
    {
     "data": {
      "text/plain": [
       "Timestamp('2006-01-15 00:00:00')"
      ]
     },
     "execution_count": 7,
     "metadata": {},
     "output_type": "execute_result"
    }
   ],
   "source": [
    "wfp_ghana[\"date\"].min()"
   ]
  },
  {
   "cell_type": "code",
   "execution_count": 8,
   "id": "5e0f478b",
   "metadata": {},
   "outputs": [],
   "source": [
    "wfp_ghana = wfp_ghana.loc[wfp_ghana.date>=\"2010-01-01\"]"
   ]
  },
  {
   "cell_type": "code",
   "execution_count": null,
   "id": "1d95c921",
   "metadata": {},
   "outputs": [],
   "source": [
    "wfp_ghana_ret = wfp_ghana.loc[wfp_ghana.pricetype==\"Retail\"]"
   ]
  },
  {
   "cell_type": "code",
   "execution_count": null,
   "id": "d4ca48dd",
   "metadata": {},
   "outputs": [],
   "source": [
    "wfp_ghana_ret"
   ]
  },
  {
   "cell_type": "code",
   "execution_count": null,
   "id": "34e59902",
   "metadata": {},
   "outputs": [],
   "source": [
    "# wfp_ghana_ret = pd.read_csv(\"../data/wfp_food_prices_gha_2019_2022_retail.csv\")"
   ]
  },
  {
   "cell_type": "code",
   "execution_count": null,
   "id": "786e1ab5",
   "metadata": {},
   "outputs": [],
   "source": [
    "wfp_ghana_ret.loc[wfp_ghana_ret.commodity==\"Cassava\"].pivot(index=\"date\", columns=\"market\", values=\"price\")"
   ]
  },
  {
   "cell_type": "code",
   "execution_count": null,
   "id": "d4feb3c3",
   "metadata": {},
   "outputs": [],
   "source": [
    "wfp_ghana_ret"
   ]
  },
  {
   "cell_type": "code",
   "execution_count": null,
   "id": "099547c9",
   "metadata": {},
   "outputs": [],
   "source": [
    "wfp_ghana_ret.loc[wfp_ghana_ret.commodity==\"Cassava\"].pivot(index=\"date\", columns=\"market\", values=\"price\").describe()"
   ]
  },
  {
   "cell_type": "markdown",
   "id": "9d16b744",
   "metadata": {},
   "source": [
    "## Cassava Prices prediction"
   ]
  },
  {
   "cell_type": "code",
   "execution_count": null,
   "id": "b2e26de0",
   "metadata": {},
   "outputs": [],
   "source": [
    "cassava_markets = wfp_ghana_ret.loc[wfp_ghana_ret.commodity==\"Cassava\"].pivot(index=\"date\", columns=\"market\", values=\"price\")"
   ]
  },
  {
   "cell_type": "code",
   "execution_count": null,
   "id": "31a1260b",
   "metadata": {},
   "outputs": [],
   "source": [
    "cassava_markets"
   ]
  },
  {
   "cell_type": "code",
   "execution_count": null,
   "id": "337aa03e",
   "metadata": {},
   "outputs": [],
   "source": [
    "cassava_accra = cassava_markets[\"Accra\"]"
   ]
  },
  {
   "cell_type": "code",
   "execution_count": null,
   "id": "13ddecf8",
   "metadata": {},
   "outputs": [],
   "source": [
    "cassava_accra = cassava_accra.backfill()"
   ]
  },
  {
   "cell_type": "code",
   "execution_count": null,
   "id": "ba7fa0f1",
   "metadata": {},
   "outputs": [],
   "source": [
    "plt.figure(figsize=(12, 5))\n",
    "cassava_accra.plot()\n",
    "plt.title(\"Cassava prices in Accra market 2019-2022\")\n",
    "plt.xticks(rotation=45)\n",
    "plt.show()"
   ]
  },
  {
   "cell_type": "code",
   "execution_count": null,
   "id": "0daa055c",
   "metadata": {},
   "outputs": [],
   "source": [
    "cassava_accra_df =cassava_accra.reset_index()"
   ]
  },
  {
   "cell_type": "code",
   "execution_count": null,
   "id": "eaeb680d",
   "metadata": {},
   "outputs": [],
   "source": [
    "# Splitting the data\n",
    "cassava_accra_train = cassava_accra[:'2022-01-01'].values\n",
    "cassava_accra_test = cassava_accra['2022-01-01':].values"
   ]
  },
  {
   "cell_type": "code",
   "execution_count": null,
   "id": "10baa415",
   "metadata": {
    "scrolled": true
   },
   "outputs": [],
   "source": [
    "# We have chosen 'High' attribute for prices. Let's see what it looks like\n",
    "plt.figure(figsize=(12,6))\n",
    "fig, ax = plt.subplots(1, 1, figsize=(15,4))\n",
    "a = sns.lineplot(x =cassava_accra[:'2022-01-01'].index, y = cassava_accra[:'2022-01-01'], label = 'Training set (Before 2022)', color = 'blue', ax=ax)\n",
    "b = sns.lineplot(x =cassava_accra['2022-01-01':].index, y = cassava_accra['2022-01-01':], label = 'Test set (2022 and beyond)',\n",
    "               color = 'red', ax=ax)\n",
    "plt.title('Accra Cassava Price')\n",
    "plt.xticks(rotation=90)\n",
    "plt.show()"
   ]
  },
  {
   "cell_type": "code",
   "execution_count": null,
   "id": "0e63572b",
   "metadata": {},
   "outputs": [],
   "source": [
    "# # Scaling the training set\n",
    "# sc = MinMaxScaler(\n",
    "#     feature_range=(0,1)\n",
    "#                  )\n",
    "# cassava_accra_train_scaled = sc.fit_transform(cassava_accra_train.reshape(1,-1)).reshape((-1, 1))"
   ]
  },
  {
   "cell_type": "code",
   "execution_count": null,
   "id": "01a5a09a",
   "metadata": {},
   "outputs": [],
   "source": [
    "cassava_accra_train = cassava_accra_train.reshape((-1, 1))"
   ]
  },
  {
   "cell_type": "code",
   "execution_count": null,
   "id": "d463ad8e",
   "metadata": {},
   "outputs": [],
   "source": [
    "# Since LSTMs store long term memory state, we create a data structure with 12 timesteps and 1 output\n",
    "# So for each element of training set, we have 12 previous training set elements \n",
    "X_train = []\n",
    "y_train = []\n",
    "for i in range(12,cassava_accra_train.shape[0]):\n",
    "    X_train.append(cassava_accra_train[i-12:i,0])\n",
    "    y_train.append(cassava_accra_train[i,0])\n",
    "X_train, y_train = np.array(X_train), np.array(y_train)"
   ]
  },
  {
   "cell_type": "code",
   "execution_count": null,
   "id": "379b5f8c",
   "metadata": {},
   "outputs": [],
   "source": [
    "# Reshaping X_train for efficient modelling\n",
    "X_train = np.reshape(X_train, (X_train.shape[0],X_train.shape[1],1))"
   ]
  },
  {
   "cell_type": "markdown",
   "id": "6e7da0bb",
   "metadata": {},
   "source": [
    "## LSTM Model"
   ]
  },
  {
   "cell_type": "code",
   "execution_count": null,
   "id": "0a93858b",
   "metadata": {},
   "outputs": [],
   "source": [
    "# The LSTM architecture\n",
    "regressor = Sequential()\n",
    "# First LSTM layer with Dropout regularisation\n",
    "regressor.add(LSTM(units=50, return_sequences=True, input_shape=(X_train.shape[1],1)))\n",
    "regressor.add(Dropout(0.2))\n",
    "# Second LSTM layer\n",
    "regressor.add(LSTM(units=50, return_sequences=True))\n",
    "regressor.add(Dropout(0.2))\n",
    "# Third LSTM layer\n",
    "regressor.add(LSTM(units=50, return_sequences=True))\n",
    "regressor.add(Dropout(0.2))\n",
    "# # Fourth LSTM layer\n",
    "regressor.add(LSTM(units=50))\n",
    "regressor.add(Dropout(0.2))\n",
    "# The output layer\n",
    "regressor.add(Dense(units=1))\n",
    "\n",
    "# Compiling the RNN\n",
    "regressor.compile(optimizer='rmsprop',loss='mean_squared_error')\n",
    "# Fitting to the training set\n",
    "regressor.fit(X_train,y_train,epochs=50,batch_size=16, validation_split=0.2)"
   ]
  },
  {
   "cell_type": "code",
   "execution_count": null,
   "id": "b5090067",
   "metadata": {},
   "outputs": [],
   "source": [
    "# Now to get the test set ready in a similar way as the training set.\n",
    "# The following has been done so forst 12 entires of test set have 12 previous values which is impossible to get unless we take the whole \n",
    "# 'High' attribute data for processing\n",
    "inputs = cassava_accra[len(cassava_accra)-len(cassava_accra_test) - 12:].values\n",
    "inputs = inputs.reshape(-1,1)"
   ]
  },
  {
   "cell_type": "code",
   "execution_count": null,
   "id": "8e30609f",
   "metadata": {},
   "outputs": [],
   "source": [
    "# Preparing X_test and predicting the prices\n",
    "X_test = []\n",
    "for i in range(12,inputs.shape[0]):\n",
    "    X_test.append(inputs[i-12:i,0])\n",
    "X_test = np.array(X_test)\n",
    "X_test = np.reshape(X_test, (X_test.shape[0],X_test.shape[1],1))\n",
    "predicted_cassava_accra_price = regressor.predict(X_test)\n",
    "# predicted_cassava_accra_price = sc.inverse_transform(predicted_cassava_accra_price)"
   ]
  },
  {
   "cell_type": "code",
   "execution_count": null,
   "id": "369258db",
   "metadata": {},
   "outputs": [],
   "source": [
    "# Visualizing the results for LSTM\n",
    "plot_predictions(cassava_accra_test,predicted_cassava_accra_price, \"Cassava\", \"Accra\")"
   ]
  },
  {
   "cell_type": "code",
   "execution_count": null,
   "id": "460e3bea",
   "metadata": {},
   "outputs": [],
   "source": [
    "# Evaluating our model\n",
    "return_rmse(cassava_accra_test,predicted_cassava_accra_price)"
   ]
  },
  {
   "cell_type": "markdown",
   "id": "a8c0fd1d",
   "metadata": {},
   "source": [
    "## Prophet Model"
   ]
  },
  {
   "cell_type": "code",
   "execution_count": null,
   "id": "c36efa1f",
   "metadata": {},
   "outputs": [],
   "source": [
    "cassava_accra_df.columns = [\"ds\", \"y\"]"
   ]
  },
  {
   "cell_type": "code",
   "execution_count": null,
   "id": "e968c677",
   "metadata": {},
   "outputs": [],
   "source": [
    "# cassava_accra_df.ds = cassava_accra_df.ds.astype(str).apply(lambda x: x.replace(\"-15\", \"\"))"
   ]
  },
  {
   "cell_type": "code",
   "execution_count": null,
   "id": "d124dce7",
   "metadata": {},
   "outputs": [],
   "source": [
    "# cassava_accra_df.ds = pd.to_datetime(cassava_accra_df.ds, format=\"%Y-%m\").dt.strftime('%Y-%m')"
   ]
  },
  {
   "cell_type": "code",
   "execution_count": null,
   "id": "e847c938",
   "metadata": {},
   "outputs": [],
   "source": [
    "m = Prophet()\n",
    "m.fit(cassava_accra_df.loc[cassava_accra_df.ds<\"2022-04\"])  # df is a pandas.DataFrame with 'y' and 'ds' columns\n",
    "future = m.make_future_dataframe(periods=8, freq=\"M\", include_history=True)\n",
    "prediction = m.predict(future)"
   ]
  },
  {
   "cell_type": "code",
   "execution_count": null,
   "id": "6b7097f8",
   "metadata": {
    "scrolled": true
   },
   "outputs": [],
   "source": [
    "prediction"
   ]
  },
  {
   "cell_type": "code",
   "execution_count": null,
   "id": "59194759",
   "metadata": {},
   "outputs": [],
   "source": [
    "cassava_accra_df.ds = cassava_accra_df.ds.astype(str).apply(lambda x: x.replace(\"-15\", \"\"))\n",
    "\n",
    "cassava_accra_df.ds = pd.to_datetime(cassava_accra_df.ds, format=\"%Y-%m\").dt.strftime('%Y-%m')"
   ]
  },
  {
   "cell_type": "code",
   "execution_count": null,
   "id": "9cde1a5c",
   "metadata": {},
   "outputs": [],
   "source": [
    "prediction.ds = prediction.ds.astype(str).apply(lambda x: x.replace(\"-15\", \"\"))\n",
    "\n",
    "prediction.ds = pd.to_datetime(prediction.ds, format=\"%Y-%m\").dt.strftime('%Y-%m')"
   ]
  },
  {
   "cell_type": "code",
   "execution_count": null,
   "id": "7873e061",
   "metadata": {
    "scrolled": true
   },
   "outputs": [],
   "source": [
    "prediction = prediction.drop(31).reset_index(drop=True)"
   ]
  },
  {
   "cell_type": "code",
   "execution_count": null,
   "id": "cc2a35f9",
   "metadata": {
    "scrolled": true
   },
   "outputs": [],
   "source": [
    "cassava_accra_df"
   ]
  },
  {
   "cell_type": "code",
   "execution_count": null,
   "id": "7786b119",
   "metadata": {},
   "outputs": [],
   "source": [
    "# Visualizing the results for LSTM\n",
    "plot_predictions(cassava_accra_df.y.values,prediction.yhat.values, \"Rice (imported)\", \"Accra\")"
   ]
  },
  {
   "cell_type": "code",
   "execution_count": null,
   "id": "5218419d",
   "metadata": {},
   "outputs": [],
   "source": [
    "# Evaluating our model\n",
    "return_rmse(cassava_accra_df.y.values,prediction.yhat.values)"
   ]
  },
  {
   "cell_type": "code",
   "execution_count": null,
   "id": "d40ffdf0",
   "metadata": {},
   "outputs": [],
   "source": [
    "prediction"
   ]
  },
  {
   "cell_type": "markdown",
   "id": "f669e672",
   "metadata": {},
   "source": [
    "## Generalization"
   ]
  },
  {
   "cell_type": "code",
   "execution_count": null,
   "id": "48756de3",
   "metadata": {},
   "outputs": [],
   "source": [
    "def predict_price_by_market_and_commodity(market, commodity):\n",
    "    commodity_markets = wfp_ghana_ret.loc[wfp_ghana_ret.commodity==commodity].pivot(index=\"date\", columns=\"market\", values=\"price\").reset_index()\n",
    "    \n",
    "    commodity_markets.date = commodity_markets.date.astype(str).apply(lambda x: x.replace(\"-15\", \"\"))\n",
    "    commodity_markets.date = pd.to_datetime(commodity_markets.date, format=\"%Y-%m\").dt.strftime('%Y-%m')\n",
    "\n",
    "    commodity_markets = commodity_markets.set_index(\"date\")\n",
    "\n",
    "    extra = pd.DataFrame(pd.Series(pd.date_range(\"2019-08-15\", \"2022-10-15\", freq=\"M\").astype(str)).apply(lambda x: x[:7]))\n",
    "    extra[\"new\"] =\"hello\"\n",
    "    extra.columns=[\"date\", \"new\"]\n",
    "    extra = extra.set_index(\"date\")\n",
    "\n",
    "    commodity_markets = extra.join(commodity_markets)\n",
    "\n",
    "    commodity_markets = commodity_markets.drop(\"new\", axis=1)\n",
    "    \n",
    "    market_commodity = commodity_markets[market]\n",
    "    \n",
    "    market_commodity = market_commodity.ffill()\n",
    "    \n",
    "    market_commodity_df =market_commodity.reset_index()\n",
    "    \n",
    "    market_commodity_df.columns = [\"ds\", \"y\"]\n",
    "    \n",
    "    m = Prophet()\n",
    "    m.fit(market_commodity_df.loc[market_commodity_df.ds<\"2022-04\"])  # df is a pandas.DataFrame with 'y' and 'ds' columns\n",
    "    future = m.make_future_dataframe(periods=8, freq=\"M\", include_history=True)\n",
    "    prediction = m.predict(future)\n",
    "    \n",
    "    market_commodity_df.ds = market_commodity_df.ds.astype(str).apply(lambda x: x.replace(\"-15\", \"\"))\n",
    "\n",
    "    market_commodity_df.ds = pd.to_datetime(market_commodity_df.ds, format=\"%Y-%m\").dt.strftime('%Y-%m')\n",
    "\n",
    "    prediction.ds = prediction.ds.astype(str).apply(lambda x: x.replace(\"-15\", \"\"))\n",
    "\n",
    "    prediction.ds = pd.to_datetime(prediction.ds, format=\"%Y-%m\").dt.strftime('%Y-%m')\n",
    "\n",
    "    prediction = prediction.drop(31).reset_index(drop=True)\n",
    "    \n",
    "    return cassava_accra_df.y.values, prediction.yhat.values\n",
    "    "
   ]
  },
  {
   "cell_type": "code",
   "execution_count": null,
   "id": "f01a7027",
   "metadata": {
    "scrolled": true
   },
   "outputs": [],
   "source": [
    "y, y_hat = predict_price_by_market_and_commodity(\"Accra\", \"Yam\")"
   ]
  },
  {
   "cell_type": "code",
   "execution_count": null,
   "id": "abb6bbc6",
   "metadata": {},
   "outputs": [],
   "source": [
    "# Visualizing the results for LSTM\n",
    "plot_predictions(y, y_hat, \"Yam\", \"Accra\")"
   ]
  },
  {
   "cell_type": "code",
   "execution_count": null,
   "id": "ae5d6b50",
   "metadata": {},
   "outputs": [],
   "source": [
    "# Evaluating our model\n",
    "return_rmse(y,y_hat)"
   ]
  },
  {
   "cell_type": "code",
   "execution_count": null,
   "id": "4690760a",
   "metadata": {},
   "outputs": [],
   "source": [
    "markets_with_issues = []\n",
    "\n",
    "for commodity in wfp_ghana.commodity.unique():\n",
    "#     print(commodity, \":\\n\")\n",
    "    markets_with_issues.extend(wfp_ghana_ret.loc[wfp_ghana_ret.commodity==commodity].pivot(index=\"date\", columns=\"market\", values=\"price\").isna().sum()[wfp_ghana_ret.loc[wfp_ghana_ret.commodity==commodity].pivot(index=\"date\", columns=\"market\", values=\"price\").isna().sum()>30].index.tolist())"
   ]
  },
  {
   "cell_type": "code",
   "execution_count": null,
   "id": "365439fd",
   "metadata": {},
   "outputs": [],
   "source": [
    "np.unique(markets_with_issues)"
   ]
  },
  {
   "cell_type": "code",
   "execution_count": null,
   "id": "0fca38bd",
   "metadata": {},
   "outputs": [],
   "source": [
    "markets = []\n",
    "commodities = []\n",
    "errors = []\n",
    "\n",
    "unusual_markets = []\n",
    "\n",
    "unusual_commodities = []\n",
    "\n",
    "for market in tqdm(wfp_ghana_ret.market.unique()):\n",
    "    \n",
    "#     if market not in markets_with_issues:\n",
    "    \n",
    "    for commodity in tqdm(wfp_ghana_ret.commodity.unique()):\n",
    "\n",
    "        try:\n",
    "            y, y_hat = predict_price_by_market_and_commodity(market, commodity)\n",
    "\n",
    "            errors.append(return_rmse(y,y_hat))\n",
    "\n",
    "            markets.append(market)\n",
    "\n",
    "            commodities.append(commodity)\n",
    "\n",
    "        except KeyError:\n",
    "            print(market, commodity)\n",
    "            unusual_markets.append(market)\n",
    "            unusual_commodities.append(commodity)\n",
    "        except ValueError:\n",
    "            print(market, commodity)"
   ]
  },
  {
   "cell_type": "code",
   "execution_count": null,
   "id": "41cd71c6",
   "metadata": {
    "scrolled": true
   },
   "outputs": [],
   "source": [
    "[len(x) for x in [markets, commodities, errors]]"
   ]
  },
  {
   "cell_type": "code",
   "execution_count": null,
   "id": "93c2bc81",
   "metadata": {},
   "outputs": [],
   "source": [
    "np.unique(unusual_markets)"
   ]
  },
  {
   "cell_type": "code",
   "execution_count": null,
   "id": "ae4bcec3",
   "metadata": {},
   "outputs": [],
   "source": [
    "np.unique(unusual_commodities)"
   ]
  },
  {
   "cell_type": "code",
   "execution_count": null,
   "id": "160edc01",
   "metadata": {},
   "outputs": [],
   "source": [
    "pd.DataFrame({\n",
    "    \"market\":markets,\n",
    "    \"commodity\":commodities,\n",
    "    \"errors\":errors\n",
    "}).sort_values(\"errors\")"
   ]
  },
  {
   "cell_type": "code",
   "execution_count": null,
   "id": "9b3ac0e7",
   "metadata": {},
   "outputs": [],
   "source": [
    "pd.DataFrame({\n",
    "    \"market\":markets,\n",
    "    \"commodity\":commodities,\n",
    "    \"errors\":errors\n",
    "}).sort_values(\"errors\").to_csv(\"../data/prices_predictions_errors.csv\", index=False)"
   ]
  },
  {
   "cell_type": "code",
   "execution_count": null,
   "id": "1c7aeae8",
   "metadata": {},
   "outputs": [],
   "source": [
    "def predict_price_by_market_and_commodity2(market, commodity):\n",
    "    commodity_markets = wfp_ghana_ret.loc[wfp_ghana_ret.commodity==commodity].pivot(index=\"date\", columns=\"market\", values=\"price\").reset_index()\n",
    "    \n",
    "    commodity_markets.date = commodity_markets.date.astype(str).apply(lambda x: x.replace(\"-15\", \"\"))\n",
    "    commodity_markets.date = pd.to_datetime(commodity_markets.date, format=\"%Y-%m\").dt.strftime('%Y-%m')\n",
    "\n",
    "    commodity_markets = commodity_markets.set_index(\"date\")\n",
    "\n",
    "    extra = pd.DataFrame(pd.Series(pd.date_range(\"2019-08-15\", \"2022-10-15\", freq=\"M\").astype(str)).apply(lambda x: x[:7]))\n",
    "    extra[\"new\"] =\"hello\"\n",
    "    extra.columns=[\"date\", \"new\"]\n",
    "    extra = extra.set_index(\"date\")\n",
    "\n",
    "    commodity_markets = extra.join(commodity_markets)\n",
    "\n",
    "    commodity_markets = commodity_markets.drop(\"new\", axis=1)\n",
    "    \n",
    "    market_commodity = commodity_markets[market]\n",
    "    \n",
    "    market_commodity = market_commodity.ffill()\n",
    "    \n",
    "    market_commodity_df =market_commodity.reset_index()\n",
    "    \n",
    "    market_commodity_df.columns = [\"ds\", \"y\"]\n",
    "    \n",
    "    m = Prophet()\n",
    "    m.fit(market_commodity_df.loc[market_commodity_df.ds<\"2022-04\"], )  # df is a pandas.DataFrame with 'y' and 'ds' columns\n",
    "    future = m.make_future_dataframe(periods=10, freq=\"M\", include_history=False)\n",
    "    prediction = m.predict(future)\n",
    "    \n",
    "    prediction.ds = prediction.ds.astype(str).apply(lambda x: x[:7])\n",
    "\n",
    "    prediction.ds = pd.to_datetime(prediction.ds, format=\"%Y-%m\").dt.strftime('%Y-%m')\n",
    "    \n",
    "    return prediction.loc[prediction.ds>=\"2022-11\"]\n",
    "    "
   ]
  },
  {
   "cell_type": "code",
   "execution_count": null,
   "id": "8052bf9e",
   "metadata": {},
   "outputs": [],
   "source": [
    "predict_price_by_market_and_commodity2(\"Kumasi\", \"Onions\").yhat.values"
   ]
  },
  {
   "cell_type": "code",
   "execution_count": null,
   "id": "30efff2b",
   "metadata": {
    "scrolled": true
   },
   "outputs": [],
   "source": [
    "markets = []\n",
    "commodities = []\n",
    "november_prices = []\n",
    "december_prices = []\n",
    "\n",
    "for market in tqdm(wfp_ghana_ret.market.unique()):\n",
    "    \n",
    "#     if market not in markets_with_issues:\n",
    "    \n",
    "        for commodity in tqdm(wfp_ghana_ret.commodity.unique()):\n",
    "\n",
    "            try:\n",
    "                prediction = predict_price_by_market_and_commodity2(market, commodity)\n",
    "\n",
    "                november_prices.append(np.abs(prediction.yhat.values[0]))\n",
    "                \n",
    "                december_prices.append(np.abs(prediction.yhat.values[1]))\n",
    "                \n",
    "                markets.append(market)\n",
    "\n",
    "                commodities.append(commodity)\n",
    "                \n",
    "            except KeyError:\n",
    "                print(market, commodity)\n",
    "                unusual_markets.append(market)\n",
    "                unusual_commodities.append(commodity)\n",
    "            except ValueError:\n",
    "                print(market, commodity)\n"
   ]
  },
  {
   "cell_type": "code",
   "execution_count": null,
   "id": "e9b57a3b",
   "metadata": {},
   "outputs": [],
   "source": [
    "forecast = pd.DataFrame({\n",
    "    \"market\": markets,\n",
    "    \"commodity\": commodities,\n",
    "    \"november_prices\": november_prices,\n",
    "    \"december_prices\": december_prices\n",
    "})\n",
    "forecast"
   ]
  },
  {
   "cell_type": "code",
   "execution_count": null,
   "id": "4cf080bf",
   "metadata": {},
   "outputs": [],
   "source": [
    "forecast = pd.melt(forecast, id_vars=[\"market\", \"commodity\"], value_vars=[\"november_prices\", \"december_prices\"])"
   ]
  },
  {
   "cell_type": "code",
   "execution_count": null,
   "id": "089a7a68",
   "metadata": {},
   "outputs": [],
   "source": [
    "forecast.columns = [\"market\", \"commodity\", \"date\", \"price\"]\n",
    "forecast.date = forecast.date.replace(\"november_prices\", \"2022-11-15\").replace(\"december_prices\", \"2022-12-15\")"
   ]
  },
  {
   "cell_type": "code",
   "execution_count": null,
   "id": "3cd0574e",
   "metadata": {},
   "outputs": [],
   "source": [
    "forecast.to_csv(\"../data/forecast.csv\", index=False)"
   ]
  },
  {
   "cell_type": "code",
   "execution_count": null,
   "id": "e7a025d6",
   "metadata": {},
   "outputs": [],
   "source": [
    "forecast.sort_values([\"market\", \"commodity\", \"date\"])"
   ]
  },
  {
   "cell_type": "code",
   "execution_count": null,
   "id": "6a04b711",
   "metadata": {},
   "outputs": [],
   "source": []
  }
 ],
 "metadata": {
  "kernelspec": {
   "display_name": "Python 3 (ipykernel)",
   "language": "python",
   "name": "python3"
  },
  "language_info": {
   "codemirror_mode": {
    "name": "ipython",
    "version": 3
   },
   "file_extension": ".py",
   "mimetype": "text/x-python",
   "name": "python",
   "nbconvert_exporter": "python",
   "pygments_lexer": "ipython3",
   "version": "3.9.13"
  }
 },
 "nbformat": 4,
 "nbformat_minor": 5
}
