{
 "cells": [
  {
   "cell_type": "markdown",
   "id": "4242f05d",
   "metadata": {},
   "source": [
    "## Libraries"
   ]
  },
  {
   "cell_type": "code",
   "execution_count": 1,
   "id": "fe8c1cac",
   "metadata": {},
   "outputs": [],
   "source": [
    "import os \n",
    "import numpy as np \n",
    "import pandas as pd \n",
    "\n",
    "from tqdm import tqdm\n",
    "import warnings\n",
    "\n",
    "warnings.filterwarnings(\"ignore\")\n"
   ]
  },
  {
   "cell_type": "code",
   "execution_count": 2,
   "id": "ef28b7e6",
   "metadata": {},
   "outputs": [
    {
     "data": {
      "text/plain": [
       "['cassava_raw.csv',\n",
       " 'chicken_raw_meat_only_stewing.csv',\n",
       " 'corn_raw.csv',\n",
       " 'corn_raw_yellow_sweet.csv',\n",
       " 'cowpeas_raw_mature_seeds_catjang.csv',\n",
       " 'eggplant_raw.csv',\n",
       " 'fish_raw_atlantic_mackerel.csv',\n",
       " 'gari_by_golden_tropics_ltd.csv',\n",
       " 'millet_raw.csv',\n",
       " 'onions_raw.csv',\n",
       " 'peppers_dried_ancho.csv',\n",
       " 'peppers_raw_red_sweet.csv',\n",
       " 'plantains_raw_green.csv',\n",
       " 'rice_raw_longgrain_brown.csv',\n",
       " 'sorghum_grain.csv',\n",
       " 'sources.txt',\n",
       " 'soybeans_raw_mature_seeds.csv',\n",
       " 'tomatoes_raw.csv',\n",
       " 'yam_raw.csv']"
      ]
     },
     "execution_count": 2,
     "metadata": {},
     "output_type": "execute_result"
    }
   ],
   "source": [
    "sorted(os.listdir(\"../data/nutrients/\"))"
   ]
  },
  {
   "cell_type": "markdown",
   "id": "c9943b94",
   "metadata": {},
   "source": [
    "## Reading Data and Filtering Nutrients"
   ]
  },
  {
   "cell_type": "code",
   "execution_count": 3,
   "id": "cdba7dd3",
   "metadata": {},
   "outputs": [],
   "source": [
    "def read_data(file_name):\n",
    "    df = pd.read_csv(f\"../data/nutrients/{file_name}\", skiprows=6, skipfooter=5)\n",
    "    df = df.loc[df.Nutrient.isin(nutrients)]\n",
    "    df[\"commodity\"] = file_name.split(\".\")[0]\n",
    "    return df"
   ]
  },
  {
   "cell_type": "code",
   "execution_count": 4,
   "id": "02a33de7",
   "metadata": {},
   "outputs": [],
   "source": [
    "nutrients = [\"Calories\", \"Protein\", \"Calcium\", \"Iron\", \"Vitamin A, RAE\", \"Thiamin [Vitamin B1]\", \"Riboflavin [Vitamin B2]\", \"Niacin [Vitamin B3]\", \"Vitamin C [Ascorbic acid]\"]"
   ]
  },
  {
   "cell_type": "code",
   "execution_count": 5,
   "id": "fb27313b",
   "metadata": {},
   "outputs": [
    {
     "data": {
      "text/plain": [
       "['Calories',\n",
       " 'Protein',\n",
       " 'Calcium',\n",
       " 'Iron',\n",
       " 'Vitamin A, RAE',\n",
       " 'Thiamin [Vitamin B1]',\n",
       " 'Riboflavin [Vitamin B2]',\n",
       " 'Niacin [Vitamin B3]',\n",
       " 'Vitamin C [Ascorbic acid]']"
      ]
     },
     "execution_count": 5,
     "metadata": {},
     "output_type": "execute_result"
    }
   ],
   "source": [
    "nutrients"
   ]
  },
  {
   "cell_type": "code",
   "execution_count": 6,
   "id": "1df14620",
   "metadata": {},
   "outputs": [],
   "source": [
    "corn_raw = pd.read_csv(\"../data/nutrients/corn_raw.csv\", skiprows=6, skipfooter=5)"
   ]
  },
  {
   "cell_type": "code",
   "execution_count": 7,
   "id": "7389bab1",
   "metadata": {},
   "outputs": [],
   "source": [
    "corn_raw = corn_raw.loc[corn_raw.Nutrient.isin(nutrients)]"
   ]
  },
  {
   "cell_type": "code",
   "execution_count": 8,
   "id": "0c187ca7",
   "metadata": {},
   "outputs": [
    {
     "data": {
      "text/html": [
       "<div>\n",
       "<style scoped>\n",
       "    .dataframe tbody tr th:only-of-type {\n",
       "        vertical-align: middle;\n",
       "    }\n",
       "\n",
       "    .dataframe tbody tr th {\n",
       "        vertical-align: top;\n",
       "    }\n",
       "\n",
       "    .dataframe thead th {\n",
       "        text-align: right;\n",
       "    }\n",
       "</style>\n",
       "<table border=\"1\" class=\"dataframe\">\n",
       "  <thead>\n",
       "    <tr style=\"text-align: right;\">\n",
       "      <th></th>\n",
       "      <th>Nutrient</th>\n",
       "      <th>Amount</th>\n",
       "      <th>Unit</th>\n",
       "      <th>DV</th>\n",
       "    </tr>\n",
       "  </thead>\n",
       "  <tbody>\n",
       "    <tr>\n",
       "      <th>0</th>\n",
       "      <td>Calories</td>\n",
       "      <td>86.000</td>\n",
       "      <td>NaN</td>\n",
       "      <td>NaN</td>\n",
       "    </tr>\n",
       "    <tr>\n",
       "      <th>1</th>\n",
       "      <td>Vitamin A, RAE</td>\n",
       "      <td>9.000</td>\n",
       "      <td>mcg</td>\n",
       "      <td>1 %</td>\n",
       "    </tr>\n",
       "    <tr>\n",
       "      <th>8</th>\n",
       "      <td>Thiamin [Vitamin B1]</td>\n",
       "      <td>0.155</td>\n",
       "      <td>mg</td>\n",
       "      <td>13 %</td>\n",
       "    </tr>\n",
       "    <tr>\n",
       "      <th>9</th>\n",
       "      <td>Riboflavin [Vitamin B2]</td>\n",
       "      <td>0.055</td>\n",
       "      <td>mg</td>\n",
       "      <td>4 %</td>\n",
       "    </tr>\n",
       "    <tr>\n",
       "      <th>10</th>\n",
       "      <td>Niacin [Vitamin B3]</td>\n",
       "      <td>1.770</td>\n",
       "      <td>mg</td>\n",
       "      <td>11 %</td>\n",
       "    </tr>\n",
       "    <tr>\n",
       "      <th>17</th>\n",
       "      <td>Vitamin C [Ascorbic acid]</td>\n",
       "      <td>6.800</td>\n",
       "      <td>mg</td>\n",
       "      <td>8 %</td>\n",
       "    </tr>\n",
       "    <tr>\n",
       "      <th>25</th>\n",
       "      <td>Calcium</td>\n",
       "      <td>2.000</td>\n",
       "      <td>mg</td>\n",
       "      <td>0 %</td>\n",
       "    </tr>\n",
       "    <tr>\n",
       "      <th>27</th>\n",
       "      <td>Iron</td>\n",
       "      <td>0.520</td>\n",
       "      <td>mg</td>\n",
       "      <td>3 %</td>\n",
       "    </tr>\n",
       "    <tr>\n",
       "      <th>34</th>\n",
       "      <td>Protein</td>\n",
       "      <td>3.270</td>\n",
       "      <td>g</td>\n",
       "      <td>7 %</td>\n",
       "    </tr>\n",
       "  </tbody>\n",
       "</table>\n",
       "</div>"
      ],
      "text/plain": [
       "                     Nutrient  Amount Unit    DV\n",
       "0                    Calories  86.000  NaN   NaN\n",
       "1              Vitamin A, RAE   9.000  mcg   1 %\n",
       "8        Thiamin [Vitamin B1]   0.155   mg  13 %\n",
       "9     Riboflavin [Vitamin B2]   0.055   mg   4 %\n",
       "10        Niacin [Vitamin B3]   1.770   mg  11 %\n",
       "17  Vitamin C [Ascorbic acid]   6.800   mg   8 %\n",
       "25                    Calcium   2.000   mg   0 %\n",
       "27                       Iron   0.520   mg   3 %\n",
       "34                    Protein   3.270    g   7 %"
      ]
     },
     "execution_count": 8,
     "metadata": {},
     "output_type": "execute_result"
    }
   ],
   "source": [
    "corn_raw"
   ]
  },
  {
   "cell_type": "code",
   "execution_count": 9,
   "id": "9b18ac86",
   "metadata": {},
   "outputs": [],
   "source": [
    "commodities_nutrients = pd.concat([read_data(f) for f in sorted(os.listdir(\"../data/nutrients/\")) if f.endswith(\"csv\")])"
   ]
  },
  {
   "cell_type": "code",
   "execution_count": 10,
   "id": "5580acd5",
   "metadata": {
    "scrolled": true
   },
   "outputs": [
    {
     "data": {
      "text/html": [
       "<div>\n",
       "<style scoped>\n",
       "    .dataframe tbody tr th:only-of-type {\n",
       "        vertical-align: middle;\n",
       "    }\n",
       "\n",
       "    .dataframe tbody tr th {\n",
       "        vertical-align: top;\n",
       "    }\n",
       "\n",
       "    .dataframe thead th {\n",
       "        text-align: right;\n",
       "    }\n",
       "</style>\n",
       "<table border=\"1\" class=\"dataframe\">\n",
       "  <thead>\n",
       "    <tr style=\"text-align: right;\">\n",
       "      <th></th>\n",
       "      <th>Nutrient</th>\n",
       "      <th>Amount</th>\n",
       "      <th>Unit</th>\n",
       "      <th>DV</th>\n",
       "      <th>commodity</th>\n",
       "    </tr>\n",
       "  </thead>\n",
       "  <tbody>\n",
       "    <tr>\n",
       "      <th>0</th>\n",
       "      <td>Calories</td>\n",
       "      <td>160.0</td>\n",
       "      <td>NaN</td>\n",
       "      <td>NaN</td>\n",
       "      <td>cassava_raw</td>\n",
       "    </tr>\n",
       "    <tr>\n",
       "      <th>1</th>\n",
       "      <td>Vitamin A, RAE</td>\n",
       "      <td>1.0</td>\n",
       "      <td>mcg</td>\n",
       "      <td>0 %</td>\n",
       "      <td>cassava_raw</td>\n",
       "    </tr>\n",
       "    <tr>\n",
       "      <th>8</th>\n",
       "      <td>Thiamin [Vitamin B1]</td>\n",
       "      <td>0.087</td>\n",
       "      <td>mg</td>\n",
       "      <td>7 %</td>\n",
       "      <td>cassava_raw</td>\n",
       "    </tr>\n",
       "    <tr>\n",
       "      <th>9</th>\n",
       "      <td>Riboflavin [Vitamin B2]</td>\n",
       "      <td>0.048</td>\n",
       "      <td>mg</td>\n",
       "      <td>4 %</td>\n",
       "      <td>cassava_raw</td>\n",
       "    </tr>\n",
       "    <tr>\n",
       "      <th>10</th>\n",
       "      <td>Niacin [Vitamin B3]</td>\n",
       "      <td>0.854</td>\n",
       "      <td>mg</td>\n",
       "      <td>5 %</td>\n",
       "      <td>cassava_raw</td>\n",
       "    </tr>\n",
       "    <tr>\n",
       "      <th>...</th>\n",
       "      <td>...</td>\n",
       "      <td>...</td>\n",
       "      <td>...</td>\n",
       "      <td>...</td>\n",
       "      <td>...</td>\n",
       "    </tr>\n",
       "    <tr>\n",
       "      <th>10</th>\n",
       "      <td>Niacin [Vitamin B3]</td>\n",
       "      <td>0.552</td>\n",
       "      <td>mg</td>\n",
       "      <td>3 %</td>\n",
       "      <td>yam_raw</td>\n",
       "    </tr>\n",
       "    <tr>\n",
       "      <th>18</th>\n",
       "      <td>Vitamin C [Ascorbic acid]</td>\n",
       "      <td>17.1</td>\n",
       "      <td>mg</td>\n",
       "      <td>19 %</td>\n",
       "      <td>yam_raw</td>\n",
       "    </tr>\n",
       "    <tr>\n",
       "      <th>26</th>\n",
       "      <td>Calcium</td>\n",
       "      <td>17.0</td>\n",
       "      <td>mg</td>\n",
       "      <td>1 %</td>\n",
       "      <td>yam_raw</td>\n",
       "    </tr>\n",
       "    <tr>\n",
       "      <th>28</th>\n",
       "      <td>Iron</td>\n",
       "      <td>0.54</td>\n",
       "      <td>mg</td>\n",
       "      <td>3 %</td>\n",
       "      <td>yam_raw</td>\n",
       "    </tr>\n",
       "    <tr>\n",
       "      <th>36</th>\n",
       "      <td>Protein</td>\n",
       "      <td>1.53</td>\n",
       "      <td>g</td>\n",
       "      <td>3 %</td>\n",
       "      <td>yam_raw</td>\n",
       "    </tr>\n",
       "  </tbody>\n",
       "</table>\n",
       "<p>157 rows × 5 columns</p>\n",
       "</div>"
      ],
      "text/plain": [
       "                     Nutrient Amount Unit    DV    commodity\n",
       "0                    Calories  160.0  NaN   NaN  cassava_raw\n",
       "1              Vitamin A, RAE    1.0  mcg   0 %  cassava_raw\n",
       "8        Thiamin [Vitamin B1]  0.087   mg   7 %  cassava_raw\n",
       "9     Riboflavin [Vitamin B2]  0.048   mg   4 %  cassava_raw\n",
       "10        Niacin [Vitamin B3]  0.854   mg   5 %  cassava_raw\n",
       "..                        ...    ...  ...   ...          ...\n",
       "10        Niacin [Vitamin B3]  0.552   mg   3 %      yam_raw\n",
       "18  Vitamin C [Ascorbic acid]   17.1   mg  19 %      yam_raw\n",
       "26                    Calcium   17.0   mg   1 %      yam_raw\n",
       "28                       Iron   0.54   mg   3 %      yam_raw\n",
       "36                    Protein   1.53    g   3 %      yam_raw\n",
       "\n",
       "[157 rows x 5 columns]"
      ]
     },
     "execution_count": 10,
     "metadata": {},
     "output_type": "execute_result"
    }
   ],
   "source": [
    "commodities_nutrients"
   ]
  },
  {
   "cell_type": "markdown",
   "id": "779c6ecd",
   "metadata": {},
   "source": [
    "## Saving Data"
   ]
  },
  {
   "cell_type": "code",
   "execution_count": 11,
   "id": "0ffbc401",
   "metadata": {},
   "outputs": [],
   "source": [
    "commodities_nutrients.to_csv(\"../data/commodities_nutrients.csv\", index=False)"
   ]
  },
  {
   "cell_type": "code",
   "execution_count": 12,
   "id": "91d94d90",
   "metadata": {},
   "outputs": [],
   "source": [
    "# pd.read_csv(\"../data/commodities_gha_nutrients.csv\")"
   ]
  },
  {
   "cell_type": "code",
   "execution_count": null,
   "id": "70c01e9b",
   "metadata": {},
   "outputs": [],
   "source": []
  }
 ],
 "metadata": {
  "kernelspec": {
   "display_name": "Python 3 (ipykernel)",
   "language": "python",
   "name": "python3"
  },
  "language_info": {
   "codemirror_mode": {
    "name": "ipython",
    "version": 3
   },
   "file_extension": ".py",
   "mimetype": "text/x-python",
   "name": "python",
   "nbconvert_exporter": "python",
   "pygments_lexer": "ipython3",
   "version": "3.9.13"
  }
 },
 "nbformat": 4,
 "nbformat_minor": 5
}
