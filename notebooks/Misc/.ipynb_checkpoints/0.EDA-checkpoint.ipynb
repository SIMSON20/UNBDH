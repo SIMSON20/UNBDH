{
 "cells": [
  {
   "cell_type": "markdown",
   "id": "1f425d80",
   "metadata": {},
   "source": [
    "## Libraries"
   ]
  },
  {
   "cell_type": "code",
   "execution_count": 36,
   "id": "d5c4932f",
   "metadata": {},
   "outputs": [],
   "source": [
    "import os \n",
    "\n",
    "import numpy as np \n",
    "import pandas as pd\n",
    "\n",
    "from tqdm import tqdm\n",
    "\n",
    "# import the folium library\n",
    "import folium\n",
    "\n",
    "import matplotlib.pyplot as plt \n",
    "\n",
    "from linearmodels import PooledOLS\n",
    "import statsmodels.api as sm"
   ]
  },
  {
   "cell_type": "markdown",
   "id": "59ff4f40",
   "metadata": {},
   "source": [
    "## Data"
   ]
  },
  {
   "cell_type": "code",
   "execution_count": 37,
   "id": "a1e40199",
   "metadata": {},
   "outputs": [],
   "source": [
    "wfp_benin = pd.read_csv(\"../data/wfp_food_prices_ben.csv\")\n",
    "wfp_benin.drop(0, inplace=True)"
   ]
  },
  {
   "cell_type": "code",
   "execution_count": 38,
   "id": "a70c1a0c",
   "metadata": {},
   "outputs": [
    {
     "data": {
      "text/html": [
       "<div>\n",
       "<style scoped>\n",
       "    .dataframe tbody tr th:only-of-type {\n",
       "        vertical-align: middle;\n",
       "    }\n",
       "\n",
       "    .dataframe tbody tr th {\n",
       "        vertical-align: top;\n",
       "    }\n",
       "\n",
       "    .dataframe thead th {\n",
       "        text-align: right;\n",
       "    }\n",
       "</style>\n",
       "<table border=\"1\" class=\"dataframe\">\n",
       "  <thead>\n",
       "    <tr style=\"text-align: right;\">\n",
       "      <th></th>\n",
       "      <th>date</th>\n",
       "      <th>admin1</th>\n",
       "      <th>admin2</th>\n",
       "      <th>market</th>\n",
       "      <th>latitude</th>\n",
       "      <th>longitude</th>\n",
       "      <th>category</th>\n",
       "      <th>commodity</th>\n",
       "      <th>unit</th>\n",
       "      <th>priceflag</th>\n",
       "      <th>pricetype</th>\n",
       "      <th>currency</th>\n",
       "      <th>price</th>\n",
       "      <th>usdprice</th>\n",
       "    </tr>\n",
       "  </thead>\n",
       "  <tbody>\n",
       "    <tr>\n",
       "      <th>1</th>\n",
       "      <td>2002-01-15</td>\n",
       "      <td>Alibori</td>\n",
       "      <td>Malanville</td>\n",
       "      <td>Malanville (CBM)</td>\n",
       "      <td>11.86</td>\n",
       "      <td>3.38</td>\n",
       "      <td>cereals and tubers</td>\n",
       "      <td>Maize</td>\n",
       "      <td>KG</td>\n",
       "      <td>actual</td>\n",
       "      <td>Wholesale</td>\n",
       "      <td>XOF</td>\n",
       "      <td>145.0</td>\n",
       "      <td>0.2208</td>\n",
       "    </tr>\n",
       "    <tr>\n",
       "      <th>2</th>\n",
       "      <td>2002-01-15</td>\n",
       "      <td>Alibori</td>\n",
       "      <td>Malanville</td>\n",
       "      <td>Malanville (CBM)</td>\n",
       "      <td>11.86</td>\n",
       "      <td>3.38</td>\n",
       "      <td>cereals and tubers</td>\n",
       "      <td>Millet</td>\n",
       "      <td>KG</td>\n",
       "      <td>actual</td>\n",
       "      <td>Wholesale</td>\n",
       "      <td>XOF</td>\n",
       "      <td>145.0</td>\n",
       "      <td>0.2208</td>\n",
       "    </tr>\n",
       "    <tr>\n",
       "      <th>3</th>\n",
       "      <td>2002-01-15</td>\n",
       "      <td>Alibori</td>\n",
       "      <td>Malanville</td>\n",
       "      <td>Malanville (CBM)</td>\n",
       "      <td>11.86</td>\n",
       "      <td>3.38</td>\n",
       "      <td>cereals and tubers</td>\n",
       "      <td>Rice (imported)</td>\n",
       "      <td>KG</td>\n",
       "      <td>actual</td>\n",
       "      <td>Wholesale</td>\n",
       "      <td>XOF</td>\n",
       "      <td>293.33</td>\n",
       "      <td>0.4467</td>\n",
       "    </tr>\n",
       "    <tr>\n",
       "      <th>4</th>\n",
       "      <td>2002-01-15</td>\n",
       "      <td>Alibori</td>\n",
       "      <td>Malanville</td>\n",
       "      <td>Malanville (CBM)</td>\n",
       "      <td>11.86</td>\n",
       "      <td>3.38</td>\n",
       "      <td>cereals and tubers</td>\n",
       "      <td>Sorghum</td>\n",
       "      <td>KG</td>\n",
       "      <td>actual</td>\n",
       "      <td>Wholesale</td>\n",
       "      <td>XOF</td>\n",
       "      <td>141.67</td>\n",
       "      <td>0.2157</td>\n",
       "    </tr>\n",
       "    <tr>\n",
       "      <th>5</th>\n",
       "      <td>2003-01-15</td>\n",
       "      <td>Alibori</td>\n",
       "      <td>Malanville</td>\n",
       "      <td>Malanville (CBM)</td>\n",
       "      <td>11.86</td>\n",
       "      <td>3.38</td>\n",
       "      <td>cereals and tubers</td>\n",
       "      <td>Maize</td>\n",
       "      <td>KG</td>\n",
       "      <td>actual</td>\n",
       "      <td>Wholesale</td>\n",
       "      <td>XOF</td>\n",
       "      <td>106.0</td>\n",
       "      <td>0.1614</td>\n",
       "    </tr>\n",
       "    <tr>\n",
       "      <th>...</th>\n",
       "      <td>...</td>\n",
       "      <td>...</td>\n",
       "      <td>...</td>\n",
       "      <td>...</td>\n",
       "      <td>...</td>\n",
       "      <td>...</td>\n",
       "      <td>...</td>\n",
       "      <td>...</td>\n",
       "      <td>...</td>\n",
       "      <td>...</td>\n",
       "      <td>...</td>\n",
       "      <td>...</td>\n",
       "      <td>...</td>\n",
       "      <td>...</td>\n",
       "    </tr>\n",
       "    <tr>\n",
       "      <th>59813</th>\n",
       "      <td>2022-09-15</td>\n",
       "      <td>Zou</td>\n",
       "      <td>Zogbodome</td>\n",
       "      <td>Zogbodomey</td>\n",
       "      <td>7.05721907875719</td>\n",
       "      <td>2.24823682355608</td>\n",
       "      <td>vegetables and fruits</td>\n",
       "      <td>Coconut (dried)</td>\n",
       "      <td>KG</td>\n",
       "      <td>actual</td>\n",
       "      <td>Retail</td>\n",
       "      <td>XOF</td>\n",
       "      <td>512.0</td>\n",
       "      <td>0.7797</td>\n",
       "    </tr>\n",
       "    <tr>\n",
       "      <th>59814</th>\n",
       "      <td>2022-09-15</td>\n",
       "      <td>Zou</td>\n",
       "      <td>Zogbodome</td>\n",
       "      <td>Zogbodomey</td>\n",
       "      <td>7.05721907875719</td>\n",
       "      <td>2.24823682355608</td>\n",
       "      <td>vegetables and fruits</td>\n",
       "      <td>Okra (fresh)</td>\n",
       "      <td>KG</td>\n",
       "      <td>actual</td>\n",
       "      <td>Retail</td>\n",
       "      <td>XOF</td>\n",
       "      <td>310.75</td>\n",
       "      <td>0.4732</td>\n",
       "    </tr>\n",
       "    <tr>\n",
       "      <th>59815</th>\n",
       "      <td>2022-09-15</td>\n",
       "      <td>Zou</td>\n",
       "      <td>Zogbodome</td>\n",
       "      <td>Zogbodomey</td>\n",
       "      <td>7.05721907875719</td>\n",
       "      <td>2.24823682355608</td>\n",
       "      <td>vegetables and fruits</td>\n",
       "      <td>Onions</td>\n",
       "      <td>KG</td>\n",
       "      <td>actual</td>\n",
       "      <td>Retail</td>\n",
       "      <td>XOF</td>\n",
       "      <td>490.25</td>\n",
       "      <td>0.7466</td>\n",
       "    </tr>\n",
       "    <tr>\n",
       "      <th>59816</th>\n",
       "      <td>2022-09-15</td>\n",
       "      <td>Zou</td>\n",
       "      <td>Zogbodome</td>\n",
       "      <td>Zogbodomey</td>\n",
       "      <td>7.05721907875719</td>\n",
       "      <td>2.24823682355608</td>\n",
       "      <td>vegetables and fruits</td>\n",
       "      <td>Peppers (red, dry)</td>\n",
       "      <td>KG</td>\n",
       "      <td>actual</td>\n",
       "      <td>Retail</td>\n",
       "      <td>XOF</td>\n",
       "      <td>4711.54</td>\n",
       "      <td>7.1753</td>\n",
       "    </tr>\n",
       "    <tr>\n",
       "      <th>59817</th>\n",
       "      <td>2022-09-15</td>\n",
       "      <td>Zou</td>\n",
       "      <td>Zogbodome</td>\n",
       "      <td>Zogbodomey</td>\n",
       "      <td>7.05721907875719</td>\n",
       "      <td>2.24823682355608</td>\n",
       "      <td>vegetables and fruits</td>\n",
       "      <td>Tomatoes</td>\n",
       "      <td>KG</td>\n",
       "      <td>actual</td>\n",
       "      <td>Retail</td>\n",
       "      <td>XOF</td>\n",
       "      <td>191.5</td>\n",
       "      <td>0.2916</td>\n",
       "    </tr>\n",
       "  </tbody>\n",
       "</table>\n",
       "<p>59817 rows × 14 columns</p>\n",
       "</div>"
      ],
      "text/plain": [
       "             date   admin1      admin2            market          latitude  \\\n",
       "1      2002-01-15  Alibori  Malanville  Malanville (CBM)             11.86   \n",
       "2      2002-01-15  Alibori  Malanville  Malanville (CBM)             11.86   \n",
       "3      2002-01-15  Alibori  Malanville  Malanville (CBM)             11.86   \n",
       "4      2002-01-15  Alibori  Malanville  Malanville (CBM)             11.86   \n",
       "5      2003-01-15  Alibori  Malanville  Malanville (CBM)             11.86   \n",
       "...           ...      ...         ...               ...               ...   \n",
       "59813  2022-09-15      Zou   Zogbodome        Zogbodomey  7.05721907875719   \n",
       "59814  2022-09-15      Zou   Zogbodome        Zogbodomey  7.05721907875719   \n",
       "59815  2022-09-15      Zou   Zogbodome        Zogbodomey  7.05721907875719   \n",
       "59816  2022-09-15      Zou   Zogbodome        Zogbodomey  7.05721907875719   \n",
       "59817  2022-09-15      Zou   Zogbodome        Zogbodomey  7.05721907875719   \n",
       "\n",
       "              longitude               category           commodity unit  \\\n",
       "1                  3.38     cereals and tubers               Maize   KG   \n",
       "2                  3.38     cereals and tubers              Millet   KG   \n",
       "3                  3.38     cereals and tubers     Rice (imported)   KG   \n",
       "4                  3.38     cereals and tubers             Sorghum   KG   \n",
       "5                  3.38     cereals and tubers               Maize   KG   \n",
       "...                 ...                    ...                 ...  ...   \n",
       "59813  2.24823682355608  vegetables and fruits     Coconut (dried)   KG   \n",
       "59814  2.24823682355608  vegetables and fruits        Okra (fresh)   KG   \n",
       "59815  2.24823682355608  vegetables and fruits              Onions   KG   \n",
       "59816  2.24823682355608  vegetables and fruits  Peppers (red, dry)   KG   \n",
       "59817  2.24823682355608  vegetables and fruits            Tomatoes   KG   \n",
       "\n",
       "      priceflag  pricetype currency    price usdprice  \n",
       "1        actual  Wholesale      XOF    145.0   0.2208  \n",
       "2        actual  Wholesale      XOF    145.0   0.2208  \n",
       "3        actual  Wholesale      XOF   293.33   0.4467  \n",
       "4        actual  Wholesale      XOF   141.67   0.2157  \n",
       "5        actual  Wholesale      XOF    106.0   0.1614  \n",
       "...         ...        ...      ...      ...      ...  \n",
       "59813    actual     Retail      XOF    512.0   0.7797  \n",
       "59814    actual     Retail      XOF   310.75   0.4732  \n",
       "59815    actual     Retail      XOF   490.25   0.7466  \n",
       "59816    actual     Retail      XOF  4711.54   7.1753  \n",
       "59817    actual     Retail      XOF    191.5   0.2916  \n",
       "\n",
       "[59817 rows x 14 columns]"
      ]
     },
     "execution_count": 38,
     "metadata": {},
     "output_type": "execute_result"
    }
   ],
   "source": [
    "wfp_benin"
   ]
  },
  {
   "cell_type": "markdown",
   "id": "018df79c",
   "metadata": {},
   "source": [
    "## Basic EDA"
   ]
  },
  {
   "cell_type": "code",
   "execution_count": 39,
   "id": "a372b9ea",
   "metadata": {},
   "outputs": [],
   "source": [
    "# convert to datetime\n",
    "wfp_benin[\"date\"] = pd.to_datetime(wfp_benin[\"date\"])"
   ]
  },
  {
   "cell_type": "code",
   "execution_count": 40,
   "id": "737c03b7",
   "metadata": {},
   "outputs": [],
   "source": [
    "wfp_benin[\"latitude\"] = pd.to_numeric(wfp_benin[\"latitude\"])\n",
    "wfp_benin[\"longitude\"] = pd.to_numeric(wfp_benin[\"longitude\"])\n",
    "wfp_benin[\"price\"] = pd.to_numeric(wfp_benin[\"price\"])\n",
    "wfp_benin[\"usdprice\"] = pd.to_numeric(wfp_benin[\"usdprice\"])"
   ]
  },
  {
   "cell_type": "code",
   "execution_count": 41,
   "id": "eb203ae9",
   "metadata": {},
   "outputs": [
    {
     "data": {
      "text/html": [
       "<div>\n",
       "<style scoped>\n",
       "    .dataframe tbody tr th:only-of-type {\n",
       "        vertical-align: middle;\n",
       "    }\n",
       "\n",
       "    .dataframe tbody tr th {\n",
       "        vertical-align: top;\n",
       "    }\n",
       "\n",
       "    .dataframe thead th {\n",
       "        text-align: right;\n",
       "    }\n",
       "</style>\n",
       "<table border=\"1\" class=\"dataframe\">\n",
       "  <thead>\n",
       "    <tr style=\"text-align: right;\">\n",
       "      <th></th>\n",
       "      <th>date</th>\n",
       "      <th>admin1</th>\n",
       "      <th>admin2</th>\n",
       "      <th>market</th>\n",
       "      <th>latitude</th>\n",
       "      <th>longitude</th>\n",
       "      <th>category</th>\n",
       "      <th>commodity</th>\n",
       "      <th>unit</th>\n",
       "      <th>priceflag</th>\n",
       "      <th>pricetype</th>\n",
       "      <th>currency</th>\n",
       "      <th>price</th>\n",
       "      <th>usdprice</th>\n",
       "    </tr>\n",
       "  </thead>\n",
       "  <tbody>\n",
       "    <tr>\n",
       "      <th>1</th>\n",
       "      <td>2002-01-15</td>\n",
       "      <td>Alibori</td>\n",
       "      <td>Malanville</td>\n",
       "      <td>Malanville (CBM)</td>\n",
       "      <td>11.860000</td>\n",
       "      <td>3.380000</td>\n",
       "      <td>cereals and tubers</td>\n",
       "      <td>Maize</td>\n",
       "      <td>KG</td>\n",
       "      <td>actual</td>\n",
       "      <td>Wholesale</td>\n",
       "      <td>XOF</td>\n",
       "      <td>145.00</td>\n",
       "      <td>0.2208</td>\n",
       "    </tr>\n",
       "    <tr>\n",
       "      <th>2</th>\n",
       "      <td>2002-01-15</td>\n",
       "      <td>Alibori</td>\n",
       "      <td>Malanville</td>\n",
       "      <td>Malanville (CBM)</td>\n",
       "      <td>11.860000</td>\n",
       "      <td>3.380000</td>\n",
       "      <td>cereals and tubers</td>\n",
       "      <td>Millet</td>\n",
       "      <td>KG</td>\n",
       "      <td>actual</td>\n",
       "      <td>Wholesale</td>\n",
       "      <td>XOF</td>\n",
       "      <td>145.00</td>\n",
       "      <td>0.2208</td>\n",
       "    </tr>\n",
       "    <tr>\n",
       "      <th>3</th>\n",
       "      <td>2002-01-15</td>\n",
       "      <td>Alibori</td>\n",
       "      <td>Malanville</td>\n",
       "      <td>Malanville (CBM)</td>\n",
       "      <td>11.860000</td>\n",
       "      <td>3.380000</td>\n",
       "      <td>cereals and tubers</td>\n",
       "      <td>Rice (imported)</td>\n",
       "      <td>KG</td>\n",
       "      <td>actual</td>\n",
       "      <td>Wholesale</td>\n",
       "      <td>XOF</td>\n",
       "      <td>293.33</td>\n",
       "      <td>0.4467</td>\n",
       "    </tr>\n",
       "    <tr>\n",
       "      <th>4</th>\n",
       "      <td>2002-01-15</td>\n",
       "      <td>Alibori</td>\n",
       "      <td>Malanville</td>\n",
       "      <td>Malanville (CBM)</td>\n",
       "      <td>11.860000</td>\n",
       "      <td>3.380000</td>\n",
       "      <td>cereals and tubers</td>\n",
       "      <td>Sorghum</td>\n",
       "      <td>KG</td>\n",
       "      <td>actual</td>\n",
       "      <td>Wholesale</td>\n",
       "      <td>XOF</td>\n",
       "      <td>141.67</td>\n",
       "      <td>0.2157</td>\n",
       "    </tr>\n",
       "    <tr>\n",
       "      <th>5</th>\n",
       "      <td>2003-01-15</td>\n",
       "      <td>Alibori</td>\n",
       "      <td>Malanville</td>\n",
       "      <td>Malanville (CBM)</td>\n",
       "      <td>11.860000</td>\n",
       "      <td>3.380000</td>\n",
       "      <td>cereals and tubers</td>\n",
       "      <td>Maize</td>\n",
       "      <td>KG</td>\n",
       "      <td>actual</td>\n",
       "      <td>Wholesale</td>\n",
       "      <td>XOF</td>\n",
       "      <td>106.00</td>\n",
       "      <td>0.1614</td>\n",
       "    </tr>\n",
       "    <tr>\n",
       "      <th>...</th>\n",
       "      <td>...</td>\n",
       "      <td>...</td>\n",
       "      <td>...</td>\n",
       "      <td>...</td>\n",
       "      <td>...</td>\n",
       "      <td>...</td>\n",
       "      <td>...</td>\n",
       "      <td>...</td>\n",
       "      <td>...</td>\n",
       "      <td>...</td>\n",
       "      <td>...</td>\n",
       "      <td>...</td>\n",
       "      <td>...</td>\n",
       "      <td>...</td>\n",
       "    </tr>\n",
       "    <tr>\n",
       "      <th>59813</th>\n",
       "      <td>2022-09-15</td>\n",
       "      <td>Zou</td>\n",
       "      <td>Zogbodome</td>\n",
       "      <td>Zogbodomey</td>\n",
       "      <td>7.057219</td>\n",
       "      <td>2.248237</td>\n",
       "      <td>vegetables and fruits</td>\n",
       "      <td>Coconut (dried)</td>\n",
       "      <td>KG</td>\n",
       "      <td>actual</td>\n",
       "      <td>Retail</td>\n",
       "      <td>XOF</td>\n",
       "      <td>512.00</td>\n",
       "      <td>0.7797</td>\n",
       "    </tr>\n",
       "    <tr>\n",
       "      <th>59814</th>\n",
       "      <td>2022-09-15</td>\n",
       "      <td>Zou</td>\n",
       "      <td>Zogbodome</td>\n",
       "      <td>Zogbodomey</td>\n",
       "      <td>7.057219</td>\n",
       "      <td>2.248237</td>\n",
       "      <td>vegetables and fruits</td>\n",
       "      <td>Okra (fresh)</td>\n",
       "      <td>KG</td>\n",
       "      <td>actual</td>\n",
       "      <td>Retail</td>\n",
       "      <td>XOF</td>\n",
       "      <td>310.75</td>\n",
       "      <td>0.4732</td>\n",
       "    </tr>\n",
       "    <tr>\n",
       "      <th>59815</th>\n",
       "      <td>2022-09-15</td>\n",
       "      <td>Zou</td>\n",
       "      <td>Zogbodome</td>\n",
       "      <td>Zogbodomey</td>\n",
       "      <td>7.057219</td>\n",
       "      <td>2.248237</td>\n",
       "      <td>vegetables and fruits</td>\n",
       "      <td>Onions</td>\n",
       "      <td>KG</td>\n",
       "      <td>actual</td>\n",
       "      <td>Retail</td>\n",
       "      <td>XOF</td>\n",
       "      <td>490.25</td>\n",
       "      <td>0.7466</td>\n",
       "    </tr>\n",
       "    <tr>\n",
       "      <th>59816</th>\n",
       "      <td>2022-09-15</td>\n",
       "      <td>Zou</td>\n",
       "      <td>Zogbodome</td>\n",
       "      <td>Zogbodomey</td>\n",
       "      <td>7.057219</td>\n",
       "      <td>2.248237</td>\n",
       "      <td>vegetables and fruits</td>\n",
       "      <td>Peppers (red, dry)</td>\n",
       "      <td>KG</td>\n",
       "      <td>actual</td>\n",
       "      <td>Retail</td>\n",
       "      <td>XOF</td>\n",
       "      <td>4711.54</td>\n",
       "      <td>7.1753</td>\n",
       "    </tr>\n",
       "    <tr>\n",
       "      <th>59817</th>\n",
       "      <td>2022-09-15</td>\n",
       "      <td>Zou</td>\n",
       "      <td>Zogbodome</td>\n",
       "      <td>Zogbodomey</td>\n",
       "      <td>7.057219</td>\n",
       "      <td>2.248237</td>\n",
       "      <td>vegetables and fruits</td>\n",
       "      <td>Tomatoes</td>\n",
       "      <td>KG</td>\n",
       "      <td>actual</td>\n",
       "      <td>Retail</td>\n",
       "      <td>XOF</td>\n",
       "      <td>191.50</td>\n",
       "      <td>0.2916</td>\n",
       "    </tr>\n",
       "  </tbody>\n",
       "</table>\n",
       "<p>59817 rows × 14 columns</p>\n",
       "</div>"
      ],
      "text/plain": [
       "            date   admin1      admin2            market   latitude  longitude  \\\n",
       "1     2002-01-15  Alibori  Malanville  Malanville (CBM)  11.860000   3.380000   \n",
       "2     2002-01-15  Alibori  Malanville  Malanville (CBM)  11.860000   3.380000   \n",
       "3     2002-01-15  Alibori  Malanville  Malanville (CBM)  11.860000   3.380000   \n",
       "4     2002-01-15  Alibori  Malanville  Malanville (CBM)  11.860000   3.380000   \n",
       "5     2003-01-15  Alibori  Malanville  Malanville (CBM)  11.860000   3.380000   \n",
       "...          ...      ...         ...               ...        ...        ...   \n",
       "59813 2022-09-15      Zou   Zogbodome        Zogbodomey   7.057219   2.248237   \n",
       "59814 2022-09-15      Zou   Zogbodome        Zogbodomey   7.057219   2.248237   \n",
       "59815 2022-09-15      Zou   Zogbodome        Zogbodomey   7.057219   2.248237   \n",
       "59816 2022-09-15      Zou   Zogbodome        Zogbodomey   7.057219   2.248237   \n",
       "59817 2022-09-15      Zou   Zogbodome        Zogbodomey   7.057219   2.248237   \n",
       "\n",
       "                    category           commodity unit priceflag  pricetype  \\\n",
       "1         cereals and tubers               Maize   KG    actual  Wholesale   \n",
       "2         cereals and tubers              Millet   KG    actual  Wholesale   \n",
       "3         cereals and tubers     Rice (imported)   KG    actual  Wholesale   \n",
       "4         cereals and tubers             Sorghum   KG    actual  Wholesale   \n",
       "5         cereals and tubers               Maize   KG    actual  Wholesale   \n",
       "...                      ...                 ...  ...       ...        ...   \n",
       "59813  vegetables and fruits     Coconut (dried)   KG    actual     Retail   \n",
       "59814  vegetables and fruits        Okra (fresh)   KG    actual     Retail   \n",
       "59815  vegetables and fruits              Onions   KG    actual     Retail   \n",
       "59816  vegetables and fruits  Peppers (red, dry)   KG    actual     Retail   \n",
       "59817  vegetables and fruits            Tomatoes   KG    actual     Retail   \n",
       "\n",
       "      currency    price  usdprice  \n",
       "1          XOF   145.00    0.2208  \n",
       "2          XOF   145.00    0.2208  \n",
       "3          XOF   293.33    0.4467  \n",
       "4          XOF   141.67    0.2157  \n",
       "5          XOF   106.00    0.1614  \n",
       "...        ...      ...       ...  \n",
       "59813      XOF   512.00    0.7797  \n",
       "59814      XOF   310.75    0.4732  \n",
       "59815      XOF   490.25    0.7466  \n",
       "59816      XOF  4711.54    7.1753  \n",
       "59817      XOF   191.50    0.2916  \n",
       "\n",
       "[59817 rows x 14 columns]"
      ]
     },
     "execution_count": 41,
     "metadata": {},
     "output_type": "execute_result"
    }
   ],
   "source": [
    "wfp_benin"
   ]
  },
  {
   "cell_type": "code",
   "execution_count": 42,
   "id": "33b9df72",
   "metadata": {},
   "outputs": [
    {
     "name": "stdout",
     "output_type": "stream",
     "text": [
      "<class 'pandas.core.frame.DataFrame'>\n",
      "RangeIndex: 59817 entries, 1 to 59817\n",
      "Data columns (total 14 columns):\n",
      " #   Column     Non-Null Count  Dtype         \n",
      "---  ------     --------------  -----         \n",
      " 0   date       59817 non-null  datetime64[ns]\n",
      " 1   admin1     59817 non-null  object        \n",
      " 2   admin2     59817 non-null  object        \n",
      " 3   market     59817 non-null  object        \n",
      " 4   latitude   59817 non-null  float64       \n",
      " 5   longitude  59817 non-null  float64       \n",
      " 6   category   59817 non-null  object        \n",
      " 7   commodity  59817 non-null  object        \n",
      " 8   unit       59817 non-null  object        \n",
      " 9   priceflag  59817 non-null  object        \n",
      " 10  pricetype  59817 non-null  object        \n",
      " 11  currency   59817 non-null  object        \n",
      " 12  price      59817 non-null  float64       \n",
      " 13  usdprice   59817 non-null  float64       \n",
      "dtypes: datetime64[ns](1), float64(4), object(9)\n",
      "memory usage: 6.4+ MB\n"
     ]
    }
   ],
   "source": [
    "wfp_benin.info()"
   ]
  },
  {
   "cell_type": "code",
   "execution_count": 43,
   "id": "b6558f7b",
   "metadata": {},
   "outputs": [],
   "source": [
    "# consider only data after 2010\n",
    "wfp_benin = wfp_benin.loc[wfp_benin.date>='2019-01-01']"
   ]
  },
  {
   "cell_type": "code",
   "execution_count": 44,
   "id": "ec1c52b9",
   "metadata": {},
   "outputs": [
    {
     "data": {
      "text/plain": [
       "Timestamp('2022-09-15 00:00:00')"
      ]
     },
     "execution_count": 44,
     "metadata": {},
     "output_type": "execute_result"
    }
   ],
   "source": [
    "wfp_benin.date.max()"
   ]
  },
  {
   "cell_type": "code",
   "execution_count": 48,
   "id": "8c10e05e",
   "metadata": {},
   "outputs": [
    {
     "data": {
      "text/plain": [
       "DatetimeIndex(['2019-01-31', '2019-02-28', '2019-03-31', '2019-04-30',\n",
       "               '2019-05-31', '2019-06-30', '2019-07-31', '2019-08-31',\n",
       "               '2019-09-30', '2019-10-31', '2019-11-30', '2019-12-31',\n",
       "               '2020-01-31', '2020-02-29', '2020-03-31', '2020-04-30',\n",
       "               '2020-05-31', '2020-06-30', '2020-07-31', '2020-08-31',\n",
       "               '2020-09-30', '2020-10-31', '2020-11-30', '2020-12-31',\n",
       "               '2021-01-31', '2021-02-28', '2021-03-31', '2021-04-30',\n",
       "               '2021-05-31', '2021-06-30', '2021-07-31', '2021-08-31',\n",
       "               '2021-09-30', '2021-10-31', '2021-11-30', '2021-12-31',\n",
       "               '2022-01-31', '2022-02-28', '2022-03-31', '2022-04-30',\n",
       "               '2022-05-31', '2022-06-30', '2022-07-31', '2022-08-31'],\n",
       "              dtype='datetime64[ns]', freq='M')"
      ]
     },
     "execution_count": 48,
     "metadata": {},
     "output_type": "execute_result"
    }
   ],
   "source": [
    "pd.date_range('2019-01-15', '2022-09-15', freq='')"
   ]
  },
  {
   "cell_type": "code",
   "execution_count": 9,
   "id": "6678a5cc",
   "metadata": {},
   "outputs": [
    {
     "data": {
      "image/png": "[encoded data removed]",
      "text/plain": [
       "<Figure size 700x400 with 1 Axes>"
      ]
     },
     "metadata": {},
     "output_type": "display_data"
    }
   ],
   "source": [
    "plt.figure(figsize=(7, 4))\n",
    "wfp_benin.loc[wfp_benin.admin1==\"Alibori\"].set_index(\"date\")[\"usdprice\"].plot()\n",
    "plt.xticks(rotation=45)\n",
    "plt.show()"
   ]
  },
  {
   "cell_type": "code",
   "execution_count": 10,
   "id": "52a3d99b",
   "metadata": {},
   "outputs": [
    {
     "data": {
      "text/plain": [
       "<AxesSubplot:xlabel='date'>"
      ]
     },
     "execution_count": 10,
     "metadata": {},
     "output_type": "execute_result"
    },
    {
     "data": {
      "image/png": "[encoded data removed]",
      "text/plain": [
       "<Figure size 640x480 with 1 Axes>"
      ]
     },
     "metadata": {},
     "output_type": "display_data"
    }
   ],
   "source": [
    "wfp_benin.loc[((wfp_benin.admin1==\"Alibori\") & (wfp_benin.category==\"vegetables and fruits\"))].set_index(\"date\")[\"usdprice\"].plot()"
   ]
  },
  {
   "cell_type": "code",
   "execution_count": 11,
   "id": "de69acf3",
   "metadata": {},
   "outputs": [
    {
     "data": {
      "text/plain": [
       "admin1\n",
       "Alibori       46\n",
       "Atakora       48\n",
       "Atlantique    48\n",
       "Borgou        48\n",
       "Collines      48\n",
       "Couffo        47\n",
       "Donga         44\n",
       "Littoral      48\n",
       "Mono          40\n",
       "Oueme         48\n",
       "Plateau       47\n",
       "Zou           49\n",
       "Name: commodity, dtype: int64"
      ]
     },
     "execution_count": 11,
     "metadata": {},
     "output_type": "execute_result"
    }
   ],
   "source": [
    "wfp_benin.groupby(\"admin1\")[\"commodity\"].apply(list).apply(sorted).apply(np.unique).apply(len)"
   ]
  },
  {
   "cell_type": "code",
   "execution_count": 12,
   "id": "a906030c",
   "metadata": {},
   "outputs": [
    {
     "data": {
      "text/plain": [
       "admin1\n",
       "Alibori       [Beans (black), Beans (red), Beans (white), Ca...\n",
       "Atakora       [Beans (black), Beans (red), Beans (white), Ca...\n",
       "Atlantique    [Beans (black), Beans (red), Beans (white), Ca...\n",
       "Borgou        [Beans (black), Beans (red), Beans (white), Ca...\n",
       "Collines      [Beans (black), Beans (red), Beans (white), Ca...\n",
       "Couffo        [Beans (black), Beans (red), Beans (white), Ca...\n",
       "Donga         [Beans (black), Beans (red), Beans (white), Ca...\n",
       "Littoral      [Beans (black), Beans (red), Beans (white), Ca...\n",
       "Mono          [Beans (red), Beans (white), Cabbage, Carrots,...\n",
       "Oueme         [Beans (black), Beans (red), Beans (white), Ca...\n",
       "Plateau       [Beans (black), Beans (red), Beans (white), Ca...\n",
       "Zou           [Beans (black), Beans (red), Beans (white), Ca...\n",
       "Name: commodity, dtype: object"
      ]
     },
     "execution_count": 12,
     "metadata": {},
     "output_type": "execute_result"
    }
   ],
   "source": [
    "wfp_benin.groupby(\"admin1\")[\"commodity\"].apply(list).apply(sorted).apply(np.unique)"
   ]
  },
  {
   "cell_type": "code",
   "execution_count": 13,
   "id": "326f3efe",
   "metadata": {},
   "outputs": [],
   "source": [
    "commodities_by_dep = wfp_benin.groupby(\"admin1\")[\"commodity\"].apply(list).apply(sorted).apply(np.unique).apply(set).values"
   ]
  },
  {
   "cell_type": "code",
   "execution_count": 14,
   "id": "3a4bbb91",
   "metadata": {},
   "outputs": [],
   "source": [
    "commodities_by_dep = [y for x in commodities_by_dep for y in x]"
   ]
  },
  {
   "cell_type": "code",
   "execution_count": 15,
   "id": "1379a6d0",
   "metadata": {
    "scrolled": false
   },
   "outputs": [
    {
     "data": {
      "text/plain": [
       "Oil (groundnut)                  12\n",
       "Soybeans                         12\n",
       "Fish (fresh, silvi)              12\n",
       "Fish (tilapia)                   12\n",
       "Sorghum (red)                    12\n",
       "Yam                              12\n",
       "Lemons                           12\n",
       "Yam (white)                      12\n",
       "Oranges                          12\n",
       "Wheat                            12\n",
       "Beans (red)                      12\n",
       "Oil (palm)                       12\n",
       "Wheat flour (imported)           12\n",
       "Potatoes                         12\n",
       "Sweet potatoes                   12\n",
       "Peppers (red, dry)               12\n",
       "Rice (local)                     12\n",
       "Onions                           12\n",
       "Okra (fresh)                     12\n",
       "Papaya                           12\n",
       "Rice (imported)                  12\n",
       "Cassava meal (gari)              12\n",
       "Cassava flour                    12\n",
       "Leafy vegetables                 12\n",
       "Groundnuts (Bambara)             12\n",
       "Carrots                          12\n",
       "Coconut (dried)                  12\n",
       "Maize (white)                    12\n",
       "Groundnuts (small, unshelled)    12\n",
       "Cassava meal (tapioca)           12\n",
       "Beans (white)                    12\n",
       "Millet                           12\n",
       "Cassava meal (gari, fine)        12\n",
       "Peas (green, dry)                12\n",
       "Cabbage                          12\n",
       "Tomatoes                         12\n",
       "Cassava (cossette)               11\n",
       "Sorghum                          11\n",
       "Beans (black)                    11\n",
       "Yam (dry)                        11\n",
       "Yam (flour)                      11\n",
       "Cassava (fresh)                  11\n",
       "Rice (paddy)                     10\n",
       "Oil (palm nut)                   10\n",
       "Shrimps                          10\n",
       "Taro                              9\n",
       "Snail                             8\n",
       "Yam (yellow)                      7\n",
       "Plantains                         5\n",
       "Maize                             4\n",
       "dtype: int64"
      ]
     },
     "execution_count": 15,
     "metadata": {},
     "output_type": "execute_result"
    }
   ],
   "source": [
    "pd.Series(commodities_by_dep).value_counts()"
   ]
  },
  {
   "cell_type": "code",
   "execution_count": 16,
   "id": "e06d8a03",
   "metadata": {},
   "outputs": [
    {
     "data": {
      "text/plain": [
       "(36,)"
      ]
     },
     "execution_count": 16,
     "metadata": {},
     "output_type": "execute_result"
    }
   ],
   "source": [
    "pd.Series(commodities_by_dep).value_counts()[pd.Series(commodities_by_dep).value_counts()==12].shape"
   ]
  },
  {
   "cell_type": "code",
   "execution_count": 17,
   "id": "31cd4270",
   "metadata": {},
   "outputs": [
    {
     "data": {
      "text/plain": [
       "cereals and tubers       23924\n",
       "vegetables and fruits    16057\n",
       "pulses and nuts           9383\n",
       "oil and fats              3658\n",
       "meat, fish and eggs       2691\n",
       "miscellaneous food         240\n",
       "Name: category, dtype: int64"
      ]
     },
     "execution_count": 17,
     "metadata": {},
     "output_type": "execute_result"
    }
   ],
   "source": [
    "wfp_benin.category.value_counts()"
   ]
  },
  {
   "cell_type": "code",
   "execution_count": 18,
   "id": "6f53d452",
   "metadata": {},
   "outputs": [
    {
     "data": {
      "text/plain": [
       "Snail    240\n",
       "Name: commodity, dtype: int64"
      ]
     },
     "execution_count": 18,
     "metadata": {},
     "output_type": "execute_result"
    }
   ],
   "source": [
    "wfp_benin.loc[wfp_benin.category==\"miscellaneous food\"].commodity.value_counts()"
   ]
  },
  {
   "cell_type": "code",
   "execution_count": 19,
   "id": "abd2f30d",
   "metadata": {},
   "outputs": [],
   "source": [
    "commodities_to_keep = pd.Series(commodities_by_dep).value_counts()[pd.Series(commodities_by_dep).value_counts()==12].index.tolist()"
   ]
  },
  {
   "cell_type": "code",
   "execution_count": 20,
   "id": "0e228c9d",
   "metadata": {},
   "outputs": [
    {
     "data": {
      "text/plain": [
       "['Oil (groundnut)',\n",
       " 'Soybeans',\n",
       " 'Fish (fresh, silvi)',\n",
       " 'Fish (tilapia)',\n",
       " 'Sorghum (red)',\n",
       " 'Yam',\n",
       " 'Lemons',\n",
       " 'Yam (white)',\n",
       " 'Oranges',\n",
       " 'Wheat',\n",
       " 'Beans (red)',\n",
       " 'Oil (palm)',\n",
       " 'Wheat flour (imported)',\n",
       " 'Potatoes',\n",
       " 'Sweet potatoes',\n",
       " 'Peppers (red, dry)',\n",
       " 'Rice (local)',\n",
       " 'Onions',\n",
       " 'Okra (fresh)',\n",
       " 'Papaya',\n",
       " 'Rice (imported)',\n",
       " 'Cassava meal (gari)',\n",
       " 'Cassava flour',\n",
       " 'Leafy vegetables',\n",
       " 'Groundnuts (Bambara)',\n",
       " 'Carrots',\n",
       " 'Coconut (dried)',\n",
       " 'Maize (white)',\n",
       " 'Groundnuts (small, unshelled)',\n",
       " 'Cassava meal (tapioca)',\n",
       " 'Beans (white)',\n",
       " 'Millet',\n",
       " 'Cassava meal (gari, fine)',\n",
       " 'Peas (green, dry)',\n",
       " 'Cabbage',\n",
       " 'Tomatoes']"
      ]
     },
     "execution_count": 20,
     "metadata": {},
     "output_type": "execute_result"
    }
   ],
   "source": [
    "commodities_to_keep"
   ]
  },
  {
   "cell_type": "code",
   "execution_count": 21,
   "id": "7527de64",
   "metadata": {},
   "outputs": [],
   "source": [
    "wfp_benin = wfp_benin.loc[wfp_benin.commodity.isin(commodities_to_keep)]"
   ]
  },
  {
   "cell_type": "code",
   "execution_count": 22,
   "id": "b312c7df",
   "metadata": {},
   "outputs": [
    {
     "data": {
      "text/plain": [
       "array([], dtype=object)"
      ]
     },
     "execution_count": 22,
     "metadata": {},
     "output_type": "execute_result"
    }
   ],
   "source": [
    "wfp_benin.loc[wfp_benin.pricetype==\"Wholesale\"].commodity.unique()"
   ]
  },
  {
   "cell_type": "code",
   "execution_count": 23,
   "id": "743c6d27",
   "metadata": {},
   "outputs": [
    {
     "name": "stdout",
     "output_type": "stream",
     "text": [
      "['Beans (red)', 'Beans (white)', 'Cabbage', 'Carrots', 'Cassava flour', 'Cassava meal (gari)', 'Cassava meal (gari, fine)', 'Cassava meal (tapioca)', 'Coconut (dried)', 'Fish (fresh, silvi)', 'Fish (tilapia)', 'Groundnuts (Bambara)', 'Groundnuts (small, unshelled)', 'Leafy vegetables', 'Lemons', 'Maize (white)', 'Millet', 'Oil (groundnut)', 'Oil (palm)', 'Okra (fresh)', 'Onions', 'Oranges', 'Papaya', 'Peas (green, dry)', 'Peppers (red, dry)', 'Potatoes', 'Rice (imported)', 'Rice (local)', 'Sorghum (red)', 'Soybeans', 'Sweet potatoes', 'Tomatoes', 'Wheat', 'Wheat flour (imported)', 'Yam', 'Yam (white)']\n"
     ]
    }
   ],
   "source": [
    "print(sorted(wfp_benin.loc[wfp_benin.pricetype==\"Retail\"].commodity.unique()))"
   ]
  },
  {
   "cell_type": "code",
   "execution_count": 24,
   "id": "752df3be",
   "metadata": {},
   "outputs": [],
   "source": [
    "wfp_benin.to_csv(\"../data/wfp_food_prices_ben_2010_2022.csv\", index=False)"
   ]
  },
  {
   "cell_type": "code",
   "execution_count": 25,
   "id": "1683c780",
   "metadata": {},
   "outputs": [
    {
     "data": {
      "text/plain": [
       "<AxesSubplot:xlabel='date'>"
      ]
     },
     "execution_count": 25,
     "metadata": {},
     "output_type": "execute_result"
    },
    {
     "data": {
      "image/png": "[encoded data removed]",
      "text/plain": [
       "<Figure size 640x480 with 1 Axes>"
      ]
     },
     "metadata": {},
     "output_type": "display_data"
    }
   ],
   "source": [
    "wfp_benin.loc[((wfp_benin.admin1==\"Alibori\") & (wfp_benin.commodity==\"Cassava meal (gari, fine)\"))].set_index(\"date\")[\"usdprice\"].plot()"
   ]
  },
  {
   "cell_type": "code",
   "execution_count": 26,
   "id": "75f6507f",
   "metadata": {},
   "outputs": [
    {
     "data": {
      "text/plain": [
       "<AxesSubplot:xlabel='date'>"
      ]
     },
     "execution_count": 26,
     "metadata": {},
     "output_type": "execute_result"
    },
    {
     "data": {
      "image/png": "[encoded data removed]",
      "text/plain": [
       "<Figure size 640x480 with 1 Axes>"
      ]
     },
     "metadata": {},
     "output_type": "display_data"
    }
   ],
   "source": [
    "wfp_benin.loc[((wfp_benin.admin1==\"Alibori\") & (wfp_benin.commodity==\"Wheat flour (imported)\"))].set_index(\"date\")[\"usdprice\"].plot()"
   ]
  },
  {
   "cell_type": "code",
   "execution_count": 27,
   "id": "45042b90",
   "metadata": {},
   "outputs": [
    {
     "data": {
      "text/plain": [
       "<AxesSubplot:xlabel='date'>"
      ]
     },
     "execution_count": 27,
     "metadata": {},
     "output_type": "execute_result"
    },
    {
     "data": {
      "image/png": "[encoded data removed]",
      "text/plain": [
       "<Figure size 640x480 with 1 Axes>"
      ]
     },
     "metadata": {},
     "output_type": "display_data"
    }
   ],
   "source": [
    "wfp_benin.loc[((wfp_benin.admin1==\"Littoral\") & (wfp_benin.commodity==\"Wheat flour (imported)\"))].set_index(\"date\")[\"usdprice\"].plot()"
   ]
  },
  {
   "cell_type": "code",
   "execution_count": 28,
   "id": "aa8381b2",
   "metadata": {},
   "outputs": [
    {
     "data": {
      "text/plain": [
       "<AxesSubplot:xlabel='date'>"
      ]
     },
     "execution_count": 28,
     "metadata": {},
     "output_type": "execute_result"
    },
    {
     "data": {
      "image/png": "[encoded data removed]",
      "text/plain": [
       "<Figure size 640x480 with 1 Axes>"
      ]
     },
     "metadata": {},
     "output_type": "display_data"
    }
   ],
   "source": [
    "wfp_benin.loc[((wfp_benin.admin1==\"Littoral\") & (wfp_benin.commodity==\"Rice (imported)\"))].set_index(\"date\")[\"usdprice\"].plot()"
   ]
  },
  {
   "cell_type": "code",
   "execution_count": 29,
   "id": "505d02f2",
   "metadata": {},
   "outputs": [
    {
     "data": {
      "text/plain": [
       "<AxesSubplot:xlabel='date'>"
      ]
     },
     "execution_count": 29,
     "metadata": {},
     "output_type": "execute_result"
    },
    {
     "data": {
      "image/png": "[encoded data removed]",
      "text/plain": [
       "<Figure size 640x480 with 1 Axes>"
      ]
     },
     "metadata": {},
     "output_type": "display_data"
    }
   ],
   "source": [
    "wfp_benin.loc[((wfp_benin.admin1==\"Alibori\") & (wfp_benin.commodity==\"Rice (imported)\"))].set_index(\"date\")[\"usdprice\"].plot()"
   ]
  },
  {
   "cell_type": "code",
   "execution_count": 30,
   "id": "a5ea9a35",
   "metadata": {},
   "outputs": [
    {
     "data": {
      "text/plain": [
       "<AxesSubplot:xlabel='date'>"
      ]
     },
     "execution_count": 30,
     "metadata": {},
     "output_type": "execute_result"
    },
    {
     "data": {
      "image/png": "[encoded data removed]",
      "text/plain": [
       "<Figure size 640x480 with 1 Axes>"
      ]
     },
     "metadata": {},
     "output_type": "display_data"
    }
   ],
   "source": [
    "wfp_benin.loc[((wfp_benin.admin1==\"Oueme\") & (wfp_benin.commodity==\"Rice (imported)\"))].set_index(\"date\")[\"usdprice\"].plot()"
   ]
  },
  {
   "cell_type": "code",
   "execution_count": 31,
   "id": "46ab813b",
   "metadata": {},
   "outputs": [
    {
     "data": {
      "text/plain": [
       "<AxesSubplot:xlabel='date'>"
      ]
     },
     "execution_count": 31,
     "metadata": {},
     "output_type": "execute_result"
    },
    {
     "data": {
      "image/png": "[encoded data removed]",
      "text/plain": [
       "<Figure size 640x480 with 1 Axes>"
      ]
     },
     "metadata": {},
     "output_type": "display_data"
    }
   ],
   "source": [
    "wfp_benin.loc[((wfp_benin.admin1==\"Alibori\") & (wfp_benin.commodity==\"Maize (white)\"))].set_index(\"date\")[\"usdprice\"].plot()"
   ]
  },
  {
   "cell_type": "code",
   "execution_count": 32,
   "id": "e65c0945",
   "metadata": {},
   "outputs": [
    {
     "data": {
      "text/plain": [
       "<AxesSubplot:xlabel='date'>"
      ]
     },
     "execution_count": 32,
     "metadata": {},
     "output_type": "execute_result"
    },
    {
     "data": {
      "image/png": "[encoded data removed]",
      "text/plain": [
       "<Figure size 640x480 with 1 Axes>"
      ]
     },
     "metadata": {},
     "output_type": "display_data"
    }
   ],
   "source": [
    "wfp_benin.loc[((wfp_benin.admin1==\"Littoral\") & (wfp_benin.commodity==\"Maize (white)\"))].set_index(\"date\")[\"usdprice\"].plot()"
   ]
  },
  {
   "cell_type": "code",
   "execution_count": 33,
   "id": "3f8300e5",
   "metadata": {},
   "outputs": [
    {
     "data": {
      "text/plain": [
       "<AxesSubplot:xlabel='date'>"
      ]
     },
     "execution_count": 33,
     "metadata": {},
     "output_type": "execute_result"
    },
    {
     "data": {
      "image/png": "[encoded data removed]",
      "text/plain": [
       "<Figure size 640x480 with 1 Axes>"
      ]
     },
     "metadata": {},
     "output_type": "display_data"
    }
   ],
   "source": [
    "wfp_benin.loc[((wfp_benin.admin1==\"Oueme\") & (wfp_benin.commodity==\"Maize (white)\"))].set_index(\"date\")[\"usdprice\"].plot()"
   ]
  },
  {
   "cell_type": "code",
   "execution_count": 34,
   "id": "bf61668a",
   "metadata": {},
   "outputs": [
    {
     "data": {
      "text/plain": [
       "<AxesSubplot:xlabel='date'>"
      ]
     },
     "execution_count": 34,
     "metadata": {},
     "output_type": "execute_result"
    },
    {
     "data": {
      "image/png": "[encoded data removed]",
      "text/plain": [
       "<Figure size 640x480 with 1 Axes>"
      ]
     },
     "metadata": {},
     "output_type": "display_data"
    }
   ],
   "source": [
    "wfp_benin.loc[((wfp_benin.admin1==\"Atakora\") & (wfp_benin.commodity==\"Maize (white)\"))].set_index(\"date\")[\"usdprice\"].plot()"
   ]
  },
  {
   "cell_type": "code",
   "execution_count": 35,
   "id": "3ec1e54a",
   "metadata": {},
   "outputs": [
    {
     "data": {
      "text/plain": [
       "<AxesSubplot:xlabel='date'>"
      ]
     },
     "execution_count": 35,
     "metadata": {},
     "output_type": "execute_result"
    },
    {
     "data": {
      "image/png": "[encoded data removed]",
      "text/plain": [
       "<Figure size 640x480 with 1 Axes>"
      ]
     },
     "metadata": {},
     "output_type": "display_data"
    }
   ],
   "source": [
    "wfp_benin.loc[((wfp_benin.admin1==\"Atakora\") & (wfp_benin.commodity==\"Sorghum\"))].set_index(\"date\")[\"usdprice\"].plot()"
   ]
  },
  {
   "cell_type": "markdown",
   "id": "4a01c0f2",
   "metadata": {},
   "source": [
    "## Modeling"
   ]
  },
  {
   "cell_type": "code",
   "execution_count": 35,
   "id": "5bd618c7",
   "metadata": {},
   "outputs": [],
   "source": [
    "wfp_benin = wfp_benin.loc[wfp_benin.pricetype!=\"Wholesale\"]"
   ]
  },
  {
   "cell_type": "markdown",
   "id": "f71adec5",
   "metadata": {},
   "source": [
    "### Beans (white)"
   ]
  },
  {
   "cell_type": "code",
   "execution_count": 36,
   "id": "a2b7547e",
   "metadata": {},
   "outputs": [],
   "source": [
    "white_beans = wfp_benin.loc[wfp_benin.commodity==\"Beans (white)\"]"
   ]
  },
  {
   "cell_type": "code",
   "execution_count": 37,
   "id": "4633b131",
   "metadata": {},
   "outputs": [
    {
     "data": {
      "text/plain": [
       "admin1\n",
       "Alibori       188\n",
       "Atakora       274\n",
       "Atlantique    251\n",
       "Borgou        339\n",
       "Collines      211\n",
       "Couffo        127\n",
       "Donga         144\n",
       "Littoral      122\n",
       "Mono           65\n",
       "Oueme         251\n",
       "Plateau       239\n",
       "Zou           245\n",
       "Name: date, dtype: int64"
      ]
     },
     "execution_count": 37,
     "metadata": {},
     "output_type": "execute_result"
    }
   ],
   "source": [
    "white_beans.groupby(\"admin1\")[\"date\"].apply(list).apply(len)"
   ]
  },
  {
   "cell_type": "code",
   "execution_count": 39,
   "id": "33f1a658",
   "metadata": {},
   "outputs": [
    {
     "data": {
      "text/plain": [
       "admin2\n",
       "Abomey            35\n",
       "Abomey-calavi     36\n",
       "Adja-ouere        78\n",
       "Adjohoun          39\n",
       "Allada            35\n",
       "Aplahoue          63\n",
       "Banikoara         62\n",
       "Bassila           37\n",
       "Bembereke         38\n",
       "Bohicon           65\n",
       "Bonou             37\n",
       "Come              65\n",
       "Cotonou          122\n",
       "Cove              35\n",
       "Dangbo            74\n",
       "Dassa             38\n",
       "Djougou           66\n",
       "Dogbo-tota        35\n",
       "Glazoue           68\n",
       "Kalale            59\n",
       "Karimama          32\n",
       "Kerou             64\n",
       "Ketou             67\n",
       "Klouekanme        29\n",
       "Kobli             41\n",
       "Malanville        94\n",
       "Natitingou        66\n",
       "Ndali             14\n",
       "Nikki             68\n",
       "Ouake             41\n",
       "Ouesse            42\n",
       "Ouinhi            34\n",
       "Parakou           68\n",
       "Pehonko           37\n",
       "Pobe              61\n",
       "Porto-novo       101\n",
       "Sakete            33\n",
       "Savalou           63\n",
       "Sinende           59\n",
       "So-ava            34\n",
       "Tanguieta         66\n",
       "Tchaourou         33\n",
       "Toffo             75\n",
       "Zangnanado        41\n",
       "Ze                71\n",
       "Zogbodome         35\n",
       "Name: date, dtype: int64"
      ]
     },
     "execution_count": 39,
     "metadata": {},
     "output_type": "execute_result"
    }
   ],
   "source": [
    "white_beans.groupby(\"admin2\")[\"date\"].apply(list).apply(len)"
   ]
  },
  {
   "cell_type": "code",
   "execution_count": 48,
   "id": "210f910b",
   "metadata": {},
   "outputs": [
    {
     "data": {
      "text/html": [
       "<div>\n",
       "<style scoped>\n",
       "    .dataframe tbody tr th:only-of-type {\n",
       "        vertical-align: middle;\n",
       "    }\n",
       "\n",
       "    .dataframe tbody tr th {\n",
       "        vertical-align: top;\n",
       "    }\n",
       "\n",
       "    .dataframe thead th {\n",
       "        text-align: right;\n",
       "    }\n",
       "</style>\n",
       "<table border=\"1\" class=\"dataframe\">\n",
       "  <thead>\n",
       "    <tr style=\"text-align: right;\">\n",
       "      <th></th>\n",
       "      <th>date</th>\n",
       "      <th>admin1</th>\n",
       "      <th>admin2</th>\n",
       "      <th>latitude</th>\n",
       "      <th>longitude</th>\n",
       "      <th>category</th>\n",
       "      <th>commodity</th>\n",
       "      <th>unit</th>\n",
       "      <th>priceflag</th>\n",
       "      <th>pricetype</th>\n",
       "      <th>...</th>\n",
       "      <th>market_So-Ava</th>\n",
       "      <th>market_Sèdjè-Dénou</th>\n",
       "      <th>market_Sékou</th>\n",
       "      <th>market_Tanguiéta</th>\n",
       "      <th>market_Tatonnoukon</th>\n",
       "      <th>market_Tchaourou</th>\n",
       "      <th>market_Yoko</th>\n",
       "      <th>market_Zinvié</th>\n",
       "      <th>market_Zogbodomey</th>\n",
       "      <th>market_Zè</th>\n",
       "    </tr>\n",
       "  </thead>\n",
       "  <tbody>\n",
       "    <tr>\n",
       "      <th>416</th>\n",
       "      <td>2010-01-15</td>\n",
       "      <td>Littoral</td>\n",
       "      <td>Cotonou</td>\n",
       "      <td>6.374875</td>\n",
       "      <td>2.430846</td>\n",
       "      <td>cereals and tubers</td>\n",
       "      <td>Cassava meal (gari)</td>\n",
       "      <td>KG</td>\n",
       "      <td>actual</td>\n",
       "      <td>Retail</td>\n",
       "      <td>...</td>\n",
       "      <td>0</td>\n",
       "      <td>0</td>\n",
       "      <td>0</td>\n",
       "      <td>0</td>\n",
       "      <td>0</td>\n",
       "      <td>0</td>\n",
       "      <td>0</td>\n",
       "      <td>0</td>\n",
       "      <td>0</td>\n",
       "      <td>0</td>\n",
       "    </tr>\n",
       "    <tr>\n",
       "      <th>417</th>\n",
       "      <td>2010-01-15</td>\n",
       "      <td>Littoral</td>\n",
       "      <td>Cotonou</td>\n",
       "      <td>6.374875</td>\n",
       "      <td>2.430846</td>\n",
       "      <td>cereals and tubers</td>\n",
       "      <td>Maize (white)</td>\n",
       "      <td>KG</td>\n",
       "      <td>actual</td>\n",
       "      <td>Retail</td>\n",
       "      <td>...</td>\n",
       "      <td>0</td>\n",
       "      <td>0</td>\n",
       "      <td>0</td>\n",
       "      <td>0</td>\n",
       "      <td>0</td>\n",
       "      <td>0</td>\n",
       "      <td>0</td>\n",
       "      <td>0</td>\n",
       "      <td>0</td>\n",
       "      <td>0</td>\n",
       "    </tr>\n",
       "    <tr>\n",
       "      <th>418</th>\n",
       "      <td>2010-01-15</td>\n",
       "      <td>Littoral</td>\n",
       "      <td>Cotonou</td>\n",
       "      <td>6.374875</td>\n",
       "      <td>2.430846</td>\n",
       "      <td>cereals and tubers</td>\n",
       "      <td>Rice (imported)</td>\n",
       "      <td>KG</td>\n",
       "      <td>actual</td>\n",
       "      <td>Retail</td>\n",
       "      <td>...</td>\n",
       "      <td>0</td>\n",
       "      <td>0</td>\n",
       "      <td>0</td>\n",
       "      <td>0</td>\n",
       "      <td>0</td>\n",
       "      <td>0</td>\n",
       "      <td>0</td>\n",
       "      <td>0</td>\n",
       "      <td>0</td>\n",
       "      <td>0</td>\n",
       "    </tr>\n",
       "    <tr>\n",
       "      <th>419</th>\n",
       "      <td>2010-01-15</td>\n",
       "      <td>Littoral</td>\n",
       "      <td>Cotonou</td>\n",
       "      <td>6.374875</td>\n",
       "      <td>2.430846</td>\n",
       "      <td>cereals and tubers</td>\n",
       "      <td>Sorghum</td>\n",
       "      <td>KG</td>\n",
       "      <td>actual</td>\n",
       "      <td>Retail</td>\n",
       "      <td>...</td>\n",
       "      <td>0</td>\n",
       "      <td>0</td>\n",
       "      <td>0</td>\n",
       "      <td>0</td>\n",
       "      <td>0</td>\n",
       "      <td>0</td>\n",
       "      <td>0</td>\n",
       "      <td>0</td>\n",
       "      <td>0</td>\n",
       "      <td>0</td>\n",
       "    </tr>\n",
       "    <tr>\n",
       "      <th>420</th>\n",
       "      <td>2010-01-15</td>\n",
       "      <td>Littoral</td>\n",
       "      <td>Cotonou</td>\n",
       "      <td>6.374875</td>\n",
       "      <td>2.430846</td>\n",
       "      <td>pulses and nuts</td>\n",
       "      <td>Beans (white)</td>\n",
       "      <td>KG</td>\n",
       "      <td>actual</td>\n",
       "      <td>Retail</td>\n",
       "      <td>...</td>\n",
       "      <td>0</td>\n",
       "      <td>0</td>\n",
       "      <td>0</td>\n",
       "      <td>0</td>\n",
       "      <td>0</td>\n",
       "      <td>0</td>\n",
       "      <td>0</td>\n",
       "      <td>0</td>\n",
       "      <td>0</td>\n",
       "      <td>0</td>\n",
       "    </tr>\n",
       "    <tr>\n",
       "      <th>...</th>\n",
       "      <td>...</td>\n",
       "      <td>...</td>\n",
       "      <td>...</td>\n",
       "      <td>...</td>\n",
       "      <td>...</td>\n",
       "      <td>...</td>\n",
       "      <td>...</td>\n",
       "      <td>...</td>\n",
       "      <td>...</td>\n",
       "      <td>...</td>\n",
       "      <td>...</td>\n",
       "      <td>...</td>\n",
       "      <td>...</td>\n",
       "      <td>...</td>\n",
       "      <td>...</td>\n",
       "      <td>...</td>\n",
       "      <td>...</td>\n",
       "      <td>...</td>\n",
       "      <td>...</td>\n",
       "      <td>...</td>\n",
       "      <td>...</td>\n",
       "    </tr>\n",
       "    <tr>\n",
       "      <th>59813</th>\n",
       "      <td>2022-09-15</td>\n",
       "      <td>Zou</td>\n",
       "      <td>Zogbodome</td>\n",
       "      <td>7.057219</td>\n",
       "      <td>2.248237</td>\n",
       "      <td>vegetables and fruits</td>\n",
       "      <td>Coconut (dried)</td>\n",
       "      <td>KG</td>\n",
       "      <td>actual</td>\n",
       "      <td>Retail</td>\n",
       "      <td>...</td>\n",
       "      <td>0</td>\n",
       "      <td>0</td>\n",
       "      <td>0</td>\n",
       "      <td>0</td>\n",
       "      <td>0</td>\n",
       "      <td>0</td>\n",
       "      <td>0</td>\n",
       "      <td>0</td>\n",
       "      <td>1</td>\n",
       "      <td>0</td>\n",
       "    </tr>\n",
       "    <tr>\n",
       "      <th>59814</th>\n",
       "      <td>2022-09-15</td>\n",
       "      <td>Zou</td>\n",
       "      <td>Zogbodome</td>\n",
       "      <td>7.057219</td>\n",
       "      <td>2.248237</td>\n",
       "      <td>vegetables and fruits</td>\n",
       "      <td>Okra (fresh)</td>\n",
       "      <td>KG</td>\n",
       "      <td>actual</td>\n",
       "      <td>Retail</td>\n",
       "      <td>...</td>\n",
       "      <td>0</td>\n",
       "      <td>0</td>\n",
       "      <td>0</td>\n",
       "      <td>0</td>\n",
       "      <td>0</td>\n",
       "      <td>0</td>\n",
       "      <td>0</td>\n",
       "      <td>0</td>\n",
       "      <td>1</td>\n",
       "      <td>0</td>\n",
       "    </tr>\n",
       "    <tr>\n",
       "      <th>59815</th>\n",
       "      <td>2022-09-15</td>\n",
       "      <td>Zou</td>\n",
       "      <td>Zogbodome</td>\n",
       "      <td>7.057219</td>\n",
       "      <td>2.248237</td>\n",
       "      <td>vegetables and fruits</td>\n",
       "      <td>Onions</td>\n",
       "      <td>KG</td>\n",
       "      <td>actual</td>\n",
       "      <td>Retail</td>\n",
       "      <td>...</td>\n",
       "      <td>0</td>\n",
       "      <td>0</td>\n",
       "      <td>0</td>\n",
       "      <td>0</td>\n",
       "      <td>0</td>\n",
       "      <td>0</td>\n",
       "      <td>0</td>\n",
       "      <td>0</td>\n",
       "      <td>1</td>\n",
       "      <td>0</td>\n",
       "    </tr>\n",
       "    <tr>\n",
       "      <th>59816</th>\n",
       "      <td>2022-09-15</td>\n",
       "      <td>Zou</td>\n",
       "      <td>Zogbodome</td>\n",
       "      <td>7.057219</td>\n",
       "      <td>2.248237</td>\n",
       "      <td>vegetables and fruits</td>\n",
       "      <td>Peppers (red, dry)</td>\n",
       "      <td>KG</td>\n",
       "      <td>actual</td>\n",
       "      <td>Retail</td>\n",
       "      <td>...</td>\n",
       "      <td>0</td>\n",
       "      <td>0</td>\n",
       "      <td>0</td>\n",
       "      <td>0</td>\n",
       "      <td>0</td>\n",
       "      <td>0</td>\n",
       "      <td>0</td>\n",
       "      <td>0</td>\n",
       "      <td>1</td>\n",
       "      <td>0</td>\n",
       "    </tr>\n",
       "    <tr>\n",
       "      <th>59817</th>\n",
       "      <td>2022-09-15</td>\n",
       "      <td>Zou</td>\n",
       "      <td>Zogbodome</td>\n",
       "      <td>7.057219</td>\n",
       "      <td>2.248237</td>\n",
       "      <td>vegetables and fruits</td>\n",
       "      <td>Tomatoes</td>\n",
       "      <td>KG</td>\n",
       "      <td>actual</td>\n",
       "      <td>Retail</td>\n",
       "      <td>...</td>\n",
       "      <td>0</td>\n",
       "      <td>0</td>\n",
       "      <td>0</td>\n",
       "      <td>0</td>\n",
       "      <td>0</td>\n",
       "      <td>0</td>\n",
       "      <td>0</td>\n",
       "      <td>0</td>\n",
       "      <td>1</td>\n",
       "      <td>0</td>\n",
       "    </tr>\n",
       "  </tbody>\n",
       "</table>\n",
       "<p>54712 rows × 64 columns</p>\n",
       "</div>"
      ],
      "text/plain": [
       "            date    admin1     admin2  latitude  longitude  \\\n",
       "416   2010-01-15  Littoral    Cotonou  6.374875   2.430846   \n",
       "417   2010-01-15  Littoral    Cotonou  6.374875   2.430846   \n",
       "418   2010-01-15  Littoral    Cotonou  6.374875   2.430846   \n",
       "419   2010-01-15  Littoral    Cotonou  6.374875   2.430846   \n",
       "420   2010-01-15  Littoral    Cotonou  6.374875   2.430846   \n",
       "...          ...       ...        ...       ...        ...   \n",
       "59813 2022-09-15       Zou  Zogbodome  7.057219   2.248237   \n",
       "59814 2022-09-15       Zou  Zogbodome  7.057219   2.248237   \n",
       "59815 2022-09-15       Zou  Zogbodome  7.057219   2.248237   \n",
       "59816 2022-09-15       Zou  Zogbodome  7.057219   2.248237   \n",
       "59817 2022-09-15       Zou  Zogbodome  7.057219   2.248237   \n",
       "\n",
       "                    category            commodity unit priceflag pricetype  \\\n",
       "416       cereals and tubers  Cassava meal (gari)   KG    actual    Retail   \n",
       "417       cereals and tubers        Maize (white)   KG    actual    Retail   \n",
       "418       cereals and tubers      Rice (imported)   KG    actual    Retail   \n",
       "419       cereals and tubers              Sorghum   KG    actual    Retail   \n",
       "420          pulses and nuts        Beans (white)   KG    actual    Retail   \n",
       "...                      ...                  ...  ...       ...       ...   \n",
       "59813  vegetables and fruits      Coconut (dried)   KG    actual    Retail   \n",
       "59814  vegetables and fruits         Okra (fresh)   KG    actual    Retail   \n",
       "59815  vegetables and fruits               Onions   KG    actual    Retail   \n",
       "59816  vegetables and fruits   Peppers (red, dry)   KG    actual    Retail   \n",
       "59817  vegetables and fruits             Tomatoes   KG    actual    Retail   \n",
       "\n",
       "       ... market_So-Ava  market_Sèdjè-Dénou  market_Sékou  market_Tanguiéta  \\\n",
       "416    ...             0                   0             0                 0   \n",
       "417    ...             0                   0             0                 0   \n",
       "418    ...             0                   0             0                 0   \n",
       "419    ...             0                   0             0                 0   \n",
       "420    ...             0                   0             0                 0   \n",
       "...    ...           ...                 ...           ...               ...   \n",
       "59813  ...             0                   0             0                 0   \n",
       "59814  ...             0                   0             0                 0   \n",
       "59815  ...             0                   0             0                 0   \n",
       "59816  ...             0                   0             0                 0   \n",
       "59817  ...             0                   0             0                 0   \n",
       "\n",
       "       market_Tatonnoukon  market_Tchaourou  market_Yoko  market_Zinvié  \\\n",
       "416                     0                 0            0              0   \n",
       "417                     0                 0            0              0   \n",
       "418                     0                 0            0              0   \n",
       "419                     0                 0            0              0   \n",
       "420                     0                 0            0              0   \n",
       "...                   ...               ...          ...            ...   \n",
       "59813                   0                 0            0              0   \n",
       "59814                   0                 0            0              0   \n",
       "59815                   0                 0            0              0   \n",
       "59816                   0                 0            0              0   \n",
       "59817                   0                 0            0              0   \n",
       "\n",
       "       market_Zogbodomey  market_Zè  \n",
       "416                    0          0  \n",
       "417                    0          0  \n",
       "418                    0          0  \n",
       "419                    0          0  \n",
       "420                    0          0  \n",
       "...                  ...        ...  \n",
       "59813                  1          0  \n",
       "59814                  1          0  \n",
       "59815                  1          0  \n",
       "59816                  1          0  \n",
       "59817                  1          0  \n",
       "\n",
       "[54712 rows x 64 columns]"
      ]
     },
     "execution_count": 48,
     "metadata": {},
     "output_type": "execute_result"
    }
   ],
   "source": [
    "pd.get_dummies(wfp_benin, columns=[\"market\"])"
   ]
  },
  {
   "cell_type": "code",
   "execution_count": 49,
   "id": "ab0b3c18",
   "metadata": {},
   "outputs": [
    {
     "data": {
      "text/plain": [
       "array(['2010-01-15T00:00:00.000000000', '2010-02-15T00:00:00.000000000',\n",
       "       '2010-03-15T00:00:00.000000000', '2010-04-15T00:00:00.000000000',\n",
       "       '2010-05-15T00:00:00.000000000', '2010-06-15T00:00:00.000000000',\n",
       "       '2010-07-15T00:00:00.000000000', '2010-08-15T00:00:00.000000000',\n",
       "       '2010-09-15T00:00:00.000000000', '2010-10-15T00:00:00.000000000',\n",
       "       '2010-11-15T00:00:00.000000000', '2010-12-15T00:00:00.000000000',\n",
       "       '2011-01-15T00:00:00.000000000', '2011-02-15T00:00:00.000000000',\n",
       "       '2011-03-15T00:00:00.000000000', '2011-04-15T00:00:00.000000000',\n",
       "       '2011-05-15T00:00:00.000000000', '2011-06-15T00:00:00.000000000',\n",
       "       '2011-07-15T00:00:00.000000000', '2011-08-15T00:00:00.000000000',\n",
       "       '2011-09-15T00:00:00.000000000', '2011-10-15T00:00:00.000000000',\n",
       "       '2011-11-15T00:00:00.000000000', '2011-12-15T00:00:00.000000000',\n",
       "       '2012-01-15T00:00:00.000000000', '2012-02-15T00:00:00.000000000',\n",
       "       '2012-03-15T00:00:00.000000000', '2012-04-15T00:00:00.000000000',\n",
       "       '2012-05-15T00:00:00.000000000', '2012-06-15T00:00:00.000000000',\n",
       "       '2012-07-15T00:00:00.000000000', '2012-08-15T00:00:00.000000000',\n",
       "       '2012-09-15T00:00:00.000000000', '2012-10-15T00:00:00.000000000',\n",
       "       '2012-11-15T00:00:00.000000000', '2012-12-15T00:00:00.000000000',\n",
       "       '2013-01-15T00:00:00.000000000', '2013-02-15T00:00:00.000000000',\n",
       "       '2013-03-15T00:00:00.000000000', '2013-04-15T00:00:00.000000000',\n",
       "       '2013-05-15T00:00:00.000000000', '2013-06-15T00:00:00.000000000',\n",
       "       '2013-07-15T00:00:00.000000000', '2013-08-15T00:00:00.000000000',\n",
       "       '2013-09-15T00:00:00.000000000', '2013-10-15T00:00:00.000000000',\n",
       "       '2013-11-15T00:00:00.000000000', '2013-12-15T00:00:00.000000000',\n",
       "       '2014-01-15T00:00:00.000000000', '2014-02-15T00:00:00.000000000',\n",
       "       '2014-03-15T00:00:00.000000000', '2014-04-15T00:00:00.000000000',\n",
       "       '2014-05-15T00:00:00.000000000', '2014-06-15T00:00:00.000000000',\n",
       "       '2014-07-15T00:00:00.000000000', '2014-08-15T00:00:00.000000000',\n",
       "       '2014-09-15T00:00:00.000000000', '2014-10-15T00:00:00.000000000',\n",
       "       '2014-11-15T00:00:00.000000000', '2015-01-15T00:00:00.000000000',\n",
       "       '2015-02-15T00:00:00.000000000', '2015-03-15T00:00:00.000000000',\n",
       "       '2015-04-15T00:00:00.000000000', '2015-05-15T00:00:00.000000000',\n",
       "       '2015-06-15T00:00:00.000000000', '2015-07-15T00:00:00.000000000',\n",
       "       '2015-08-15T00:00:00.000000000', '2015-09-15T00:00:00.000000000',\n",
       "       '2015-10-15T00:00:00.000000000', '2015-11-15T00:00:00.000000000',\n",
       "       '2015-12-15T00:00:00.000000000', '2016-01-15T00:00:00.000000000',\n",
       "       '2016-02-15T00:00:00.000000000', '2016-03-15T00:00:00.000000000',\n",
       "       '2016-04-15T00:00:00.000000000', '2016-05-15T00:00:00.000000000',\n",
       "       '2016-06-15T00:00:00.000000000', '2016-07-15T00:00:00.000000000',\n",
       "       '2016-08-15T00:00:00.000000000', '2016-09-15T00:00:00.000000000',\n",
       "       '2016-10-15T00:00:00.000000000', '2016-11-15T00:00:00.000000000',\n",
       "       '2019-01-15T00:00:00.000000000', '2019-02-15T00:00:00.000000000',\n",
       "       '2019-03-15T00:00:00.000000000', '2019-04-15T00:00:00.000000000',\n",
       "       '2019-07-15T00:00:00.000000000', '2019-08-15T00:00:00.000000000',\n",
       "       '2019-09-15T00:00:00.000000000', '2019-10-15T00:00:00.000000000',\n",
       "       '2019-11-15T00:00:00.000000000', '2019-12-15T00:00:00.000000000',\n",
       "       '2020-01-15T00:00:00.000000000', '2020-02-15T00:00:00.000000000',\n",
       "       '2020-03-15T00:00:00.000000000', '2020-04-15T00:00:00.000000000',\n",
       "       '2020-05-15T00:00:00.000000000', '2020-06-15T00:00:00.000000000',\n",
       "       '2020-07-15T00:00:00.000000000', '2020-08-15T00:00:00.000000000',\n",
       "       '2020-09-15T00:00:00.000000000', '2020-10-15T00:00:00.000000000',\n",
       "       '2020-11-15T00:00:00.000000000', '2020-12-15T00:00:00.000000000',\n",
       "       '2021-01-15T00:00:00.000000000', '2021-02-15T00:00:00.000000000',\n",
       "       '2021-03-15T00:00:00.000000000', '2021-04-15T00:00:00.000000000',\n",
       "       '2021-05-15T00:00:00.000000000', '2021-06-15T00:00:00.000000000',\n",
       "       '2021-07-15T00:00:00.000000000', '2021-08-15T00:00:00.000000000',\n",
       "       '2021-09-15T00:00:00.000000000', '2021-10-15T00:00:00.000000000',\n",
       "       '2021-11-15T00:00:00.000000000', '2021-12-15T00:00:00.000000000',\n",
       "       '2022-01-15T00:00:00.000000000', '2022-02-15T00:00:00.000000000',\n",
       "       '2022-04-15T00:00:00.000000000', '2022-05-15T00:00:00.000000000',\n",
       "       '2022-06-15T00:00:00.000000000', '2022-07-15T00:00:00.000000000',\n",
       "       '2022-08-15T00:00:00.000000000', '2022-09-15T00:00:00.000000000'],\n",
       "      dtype='datetime64[ns]')"
      ]
     },
     "execution_count": 49,
     "metadata": {},
     "output_type": "execute_result"
    }
   ],
   "source": [
    "white_beans.date.unique()"
   ]
  },
  {
   "cell_type": "code",
   "execution_count": 47,
   "id": "eafda2f0",
   "metadata": {},
   "outputs": [
    {
     "data": {
      "text/html": [
       "<div>\n",
       "<style scoped>\n",
       "    .dataframe tbody tr th:only-of-type {\n",
       "        vertical-align: middle;\n",
       "    }\n",
       "\n",
       "    .dataframe tbody tr th {\n",
       "        vertical-align: top;\n",
       "    }\n",
       "\n",
       "    .dataframe thead th {\n",
       "        text-align: right;\n",
       "    }\n",
       "</style>\n",
       "<table border=\"1\" class=\"dataframe\">\n",
       "  <thead>\n",
       "    <tr style=\"text-align: right;\">\n",
       "      <th></th>\n",
       "      <th></th>\n",
       "      <th>admin2</th>\n",
       "      <th>market</th>\n",
       "      <th>latitude</th>\n",
       "      <th>longitude</th>\n",
       "      <th>category</th>\n",
       "      <th>commodity</th>\n",
       "      <th>unit</th>\n",
       "      <th>priceflag</th>\n",
       "      <th>pricetype</th>\n",
       "      <th>currency</th>\n",
       "      <th>price</th>\n",
       "      <th>usdprice</th>\n",
       "    </tr>\n",
       "    <tr>\n",
       "      <th>admin1</th>\n",
       "      <th>date</th>\n",
       "      <th></th>\n",
       "      <th></th>\n",
       "      <th></th>\n",
       "      <th></th>\n",
       "      <th></th>\n",
       "      <th></th>\n",
       "      <th></th>\n",
       "      <th></th>\n",
       "      <th></th>\n",
       "      <th></th>\n",
       "      <th></th>\n",
       "      <th></th>\n",
       "    </tr>\n",
       "  </thead>\n",
       "  <tbody>\n",
       "    <tr>\n",
       "      <th rowspan=\"5\" valign=\"top\">Littoral</th>\n",
       "      <th>2010-01-15</th>\n",
       "      <td>Cotonou</td>\n",
       "      <td>Dantokpa</td>\n",
       "      <td>6.374875</td>\n",
       "      <td>2.430846</td>\n",
       "      <td>pulses and nuts</td>\n",
       "      <td>Beans (white)</td>\n",
       "      <td>KG</td>\n",
       "      <td>actual</td>\n",
       "      <td>Retail</td>\n",
       "      <td>XOF</td>\n",
       "      <td>490.00</td>\n",
       "      <td>0.7462</td>\n",
       "    </tr>\n",
       "    <tr>\n",
       "      <th>2010-02-15</th>\n",
       "      <td>Cotonou</td>\n",
       "      <td>Dantokpa</td>\n",
       "      <td>6.374875</td>\n",
       "      <td>2.430846</td>\n",
       "      <td>pulses and nuts</td>\n",
       "      <td>Beans (white)</td>\n",
       "      <td>KG</td>\n",
       "      <td>actual</td>\n",
       "      <td>Retail</td>\n",
       "      <td>XOF</td>\n",
       "      <td>495.00</td>\n",
       "      <td>0.7538</td>\n",
       "    </tr>\n",
       "    <tr>\n",
       "      <th>2010-03-15</th>\n",
       "      <td>Cotonou</td>\n",
       "      <td>Dantokpa</td>\n",
       "      <td>6.374875</td>\n",
       "      <td>2.430846</td>\n",
       "      <td>pulses and nuts</td>\n",
       "      <td>Beans (white)</td>\n",
       "      <td>KG</td>\n",
       "      <td>actual</td>\n",
       "      <td>Retail</td>\n",
       "      <td>XOF</td>\n",
       "      <td>545.00</td>\n",
       "      <td>0.8300</td>\n",
       "    </tr>\n",
       "    <tr>\n",
       "      <th>2010-04-15</th>\n",
       "      <td>Cotonou</td>\n",
       "      <td>Dantokpa</td>\n",
       "      <td>6.374875</td>\n",
       "      <td>2.430846</td>\n",
       "      <td>pulses and nuts</td>\n",
       "      <td>Beans (white)</td>\n",
       "      <td>KG</td>\n",
       "      <td>actual</td>\n",
       "      <td>Retail</td>\n",
       "      <td>XOF</td>\n",
       "      <td>545.00</td>\n",
       "      <td>0.8300</td>\n",
       "    </tr>\n",
       "    <tr>\n",
       "      <th>2010-05-15</th>\n",
       "      <td>Cotonou</td>\n",
       "      <td>Dantokpa</td>\n",
       "      <td>6.374875</td>\n",
       "      <td>2.430846</td>\n",
       "      <td>pulses and nuts</td>\n",
       "      <td>Beans (white)</td>\n",
       "      <td>KG</td>\n",
       "      <td>actual</td>\n",
       "      <td>Retail</td>\n",
       "      <td>XOF</td>\n",
       "      <td>545.00</td>\n",
       "      <td>0.8300</td>\n",
       "    </tr>\n",
       "    <tr>\n",
       "      <th>...</th>\n",
       "      <th>...</th>\n",
       "      <td>...</td>\n",
       "      <td>...</td>\n",
       "      <td>...</td>\n",
       "      <td>...</td>\n",
       "      <td>...</td>\n",
       "      <td>...</td>\n",
       "      <td>...</td>\n",
       "      <td>...</td>\n",
       "      <td>...</td>\n",
       "      <td>...</td>\n",
       "      <td>...</td>\n",
       "      <td>...</td>\n",
       "    </tr>\n",
       "    <tr>\n",
       "      <th rowspan=\"5\" valign=\"top\">Zou</th>\n",
       "      <th>2022-09-15</th>\n",
       "      <td>Bohicon</td>\n",
       "      <td>Bohicon</td>\n",
       "      <td>7.179768</td>\n",
       "      <td>2.071422</td>\n",
       "      <td>pulses and nuts</td>\n",
       "      <td>Beans (white)</td>\n",
       "      <td>KG</td>\n",
       "      <td>actual</td>\n",
       "      <td>Retail</td>\n",
       "      <td>XOF</td>\n",
       "      <td>706.52</td>\n",
       "      <td>1.0760</td>\n",
       "    </tr>\n",
       "    <tr>\n",
       "      <th>2022-09-15</th>\n",
       "      <td>Cove</td>\n",
       "      <td>Covè</td>\n",
       "      <td>7.217498</td>\n",
       "      <td>2.342463</td>\n",
       "      <td>pulses and nuts</td>\n",
       "      <td>Beans (white)</td>\n",
       "      <td>KG</td>\n",
       "      <td>actual</td>\n",
       "      <td>Retail</td>\n",
       "      <td>XOF</td>\n",
       "      <td>788.04</td>\n",
       "      <td>1.2001</td>\n",
       "    </tr>\n",
       "    <tr>\n",
       "      <th>2022-09-15</th>\n",
       "      <td>Ouinhi</td>\n",
       "      <td>Dasso</td>\n",
       "      <td>7.012241</td>\n",
       "      <td>2.464870</td>\n",
       "      <td>pulses and nuts</td>\n",
       "      <td>Beans (white)</td>\n",
       "      <td>KG</td>\n",
       "      <td>actual</td>\n",
       "      <td>Retail</td>\n",
       "      <td>XOF</td>\n",
       "      <td>516.30</td>\n",
       "      <td>0.7863</td>\n",
       "    </tr>\n",
       "    <tr>\n",
       "      <th>2022-09-15</th>\n",
       "      <td>Zangnanado</td>\n",
       "      <td>Kpedekpo</td>\n",
       "      <td>7.231898</td>\n",
       "      <td>2.500096</td>\n",
       "      <td>pulses and nuts</td>\n",
       "      <td>Beans (white)</td>\n",
       "      <td>KG</td>\n",
       "      <td>actual</td>\n",
       "      <td>Retail</td>\n",
       "      <td>XOF</td>\n",
       "      <td>679.35</td>\n",
       "      <td>1.0346</td>\n",
       "    </tr>\n",
       "    <tr>\n",
       "      <th>2022-09-15</th>\n",
       "      <td>Zogbodome</td>\n",
       "      <td>Zogbodomey</td>\n",
       "      <td>7.057219</td>\n",
       "      <td>2.248237</td>\n",
       "      <td>pulses and nuts</td>\n",
       "      <td>Beans (white)</td>\n",
       "      <td>KG</td>\n",
       "      <td>actual</td>\n",
       "      <td>Retail</td>\n",
       "      <td>XOF</td>\n",
       "      <td>652.17</td>\n",
       "      <td>0.9932</td>\n",
       "    </tr>\n",
       "  </tbody>\n",
       "</table>\n",
       "<p>2456 rows × 12 columns</p>\n",
       "</div>"
      ],
      "text/plain": [
       "                         admin2      market  latitude  longitude  \\\n",
       "admin1   date                                                      \n",
       "Littoral 2010-01-15     Cotonou    Dantokpa  6.374875   2.430846   \n",
       "         2010-02-15     Cotonou    Dantokpa  6.374875   2.430846   \n",
       "         2010-03-15     Cotonou    Dantokpa  6.374875   2.430846   \n",
       "         2010-04-15     Cotonou    Dantokpa  6.374875   2.430846   \n",
       "         2010-05-15     Cotonou    Dantokpa  6.374875   2.430846   \n",
       "...                         ...         ...       ...        ...   \n",
       "Zou      2022-09-15     Bohicon     Bohicon  7.179768   2.071422   \n",
       "         2022-09-15        Cove        Covè  7.217498   2.342463   \n",
       "         2022-09-15      Ouinhi       Dasso  7.012241   2.464870   \n",
       "         2022-09-15  Zangnanado    Kpedekpo  7.231898   2.500096   \n",
       "         2022-09-15   Zogbodome  Zogbodomey  7.057219   2.248237   \n",
       "\n",
       "                            category      commodity unit priceflag pricetype  \\\n",
       "admin1   date                                                                  \n",
       "Littoral 2010-01-15  pulses and nuts  Beans (white)   KG    actual    Retail   \n",
       "         2010-02-15  pulses and nuts  Beans (white)   KG    actual    Retail   \n",
       "         2010-03-15  pulses and nuts  Beans (white)   KG    actual    Retail   \n",
       "         2010-04-15  pulses and nuts  Beans (white)   KG    actual    Retail   \n",
       "         2010-05-15  pulses and nuts  Beans (white)   KG    actual    Retail   \n",
       "...                              ...            ...  ...       ...       ...   \n",
       "Zou      2022-09-15  pulses and nuts  Beans (white)   KG    actual    Retail   \n",
       "         2022-09-15  pulses and nuts  Beans (white)   KG    actual    Retail   \n",
       "         2022-09-15  pulses and nuts  Beans (white)   KG    actual    Retail   \n",
       "         2022-09-15  pulses and nuts  Beans (white)   KG    actual    Retail   \n",
       "         2022-09-15  pulses and nuts  Beans (white)   KG    actual    Retail   \n",
       "\n",
       "                    currency   price  usdprice  \n",
       "admin1   date                                   \n",
       "Littoral 2010-01-15      XOF  490.00    0.7462  \n",
       "         2010-02-15      XOF  495.00    0.7538  \n",
       "         2010-03-15      XOF  545.00    0.8300  \n",
       "         2010-04-15      XOF  545.00    0.8300  \n",
       "         2010-05-15      XOF  545.00    0.8300  \n",
       "...                      ...     ...       ...  \n",
       "Zou      2022-09-15      XOF  706.52    1.0760  \n",
       "         2022-09-15      XOF  788.04    1.2001  \n",
       "         2022-09-15      XOF  516.30    0.7863  \n",
       "         2022-09-15      XOF  679.35    1.0346  \n",
       "         2022-09-15      XOF  652.17    0.9932  \n",
       "\n",
       "[2456 rows x 12 columns]"
      ]
     },
     "execution_count": 47,
     "metadata": {},
     "output_type": "execute_result"
    }
   ],
   "source": [
    "white_beans.set_index([\"admin1\", \"date\"])"
   ]
  },
  {
   "cell_type": "code",
   "execution_count": 46,
   "id": "a9702d6a",
   "metadata": {},
   "outputs": [
    {
     "ename": "ValueError",
     "evalue": "Series can only be used with a 2-level MultiIndex",
     "output_type": "error",
     "traceback": [
      "\u001b[1;31m---------------------------------------------------------------------------\u001b[0m",
      "\u001b[1;31mValueError\u001b[0m                                Traceback (most recent call last)",
      "\u001b[1;32mC:\\Program Files\\KMSpico\\temp\\ipykernel_7844\\2652738405.py\u001b[0m in \u001b[0;36m<module>\u001b[1;34m\u001b[0m\n\u001b[0;32m      2\u001b[0m \u001b[0mexog\u001b[0m \u001b[1;33m=\u001b[0m \u001b[0msm\u001b[0m\u001b[1;33m.\u001b[0m\u001b[0mtools\u001b[0m\u001b[1;33m.\u001b[0m\u001b[0mtools\u001b[0m\u001b[1;33m.\u001b[0m\u001b[0madd_constant\u001b[0m\u001b[1;33m(\u001b[0m\u001b[0mwhite_beans\u001b[0m\u001b[1;33m[\u001b[0m\u001b[1;33m[\u001b[0m\u001b[1;34m'latitude'\u001b[0m\u001b[1;33m,\u001b[0m \u001b[1;34m'longitude'\u001b[0m\u001b[1;33m]\u001b[0m\u001b[1;33m]\u001b[0m\u001b[1;33m)\u001b[0m\u001b[1;33m\u001b[0m\u001b[1;33m\u001b[0m\u001b[0m\n\u001b[0;32m      3\u001b[0m \u001b[0mendog\u001b[0m \u001b[1;33m=\u001b[0m \u001b[0mwhite_beans\u001b[0m\u001b[1;33m[\u001b[0m\u001b[1;34m'usdprice'\u001b[0m\u001b[1;33m]\u001b[0m\u001b[1;33m\u001b[0m\u001b[1;33m\u001b[0m\u001b[0m\n\u001b[1;32m----> 4\u001b[1;33m \u001b[0mmod\u001b[0m \u001b[1;33m=\u001b[0m \u001b[0mPooledOLS\u001b[0m\u001b[1;33m(\u001b[0m\u001b[0mendog\u001b[0m\u001b[1;33m,\u001b[0m \u001b[0mexog\u001b[0m\u001b[1;33m)\u001b[0m\u001b[1;33m\u001b[0m\u001b[1;33m\u001b[0m\u001b[0m\n\u001b[0m\u001b[0;32m      5\u001b[0m \u001b[0mpooledOLS_res\u001b[0m \u001b[1;33m=\u001b[0m \u001b[0mmod\u001b[0m\u001b[1;33m.\u001b[0m\u001b[0mfit\u001b[0m\u001b[1;33m(\u001b[0m\u001b[0mcov_type\u001b[0m\u001b[1;33m=\u001b[0m\u001b[1;34m'clustered'\u001b[0m\u001b[1;33m,\u001b[0m \u001b[0mcluster_entity\u001b[0m\u001b[1;33m=\u001b[0m\u001b[1;32mTrue\u001b[0m\u001b[1;33m)\u001b[0m\u001b[1;33m\u001b[0m\u001b[1;33m\u001b[0m\u001b[0m\n\u001b[0;32m      6\u001b[0m \u001b[1;31m# Store values for checking homoskedasticity graphically\u001b[0m\u001b[1;33m\u001b[0m\u001b[1;33m\u001b[0m\u001b[0m\n",
      "\u001b[1;32mF:\\anaconda3\\lib\\site-packages\\linearmodels\\panel\\model.py\u001b[0m in \u001b[0;36m__init__\u001b[1;34m(self, dependent, exog, weights, check_rank)\u001b[0m\n\u001b[0;32m    852\u001b[0m         \u001b[0mcheck_rank\u001b[0m\u001b[1;33m:\u001b[0m \u001b[0mbool\u001b[0m \u001b[1;33m=\u001b[0m \u001b[1;32mTrue\u001b[0m\u001b[1;33m,\u001b[0m\u001b[1;33m\u001b[0m\u001b[1;33m\u001b[0m\u001b[0m\n\u001b[0;32m    853\u001b[0m     ) -> None:\n\u001b[1;32m--> 854\u001b[1;33m         \u001b[0msuper\u001b[0m\u001b[1;33m(\u001b[0m\u001b[1;33m)\u001b[0m\u001b[1;33m.\u001b[0m\u001b[0m__init__\u001b[0m\u001b[1;33m(\u001b[0m\u001b[0mdependent\u001b[0m\u001b[1;33m,\u001b[0m \u001b[0mexog\u001b[0m\u001b[1;33m,\u001b[0m \u001b[0mweights\u001b[0m\u001b[1;33m=\u001b[0m\u001b[0mweights\u001b[0m\u001b[1;33m,\u001b[0m \u001b[0mcheck_rank\u001b[0m\u001b[1;33m=\u001b[0m\u001b[0mcheck_rank\u001b[0m\u001b[1;33m)\u001b[0m\u001b[1;33m\u001b[0m\u001b[1;33m\u001b[0m\u001b[0m\n\u001b[0m\u001b[0;32m    855\u001b[0m \u001b[1;33m\u001b[0m\u001b[0m\n\u001b[0;32m    856\u001b[0m     \u001b[1;33m@\u001b[0m\u001b[0mclassmethod\u001b[0m\u001b[1;33m\u001b[0m\u001b[1;33m\u001b[0m\u001b[0m\n",
      "\u001b[1;32mF:\\anaconda3\\lib\\site-packages\\linearmodels\\panel\\model.py\u001b[0m in \u001b[0;36m__init__\u001b[1;34m(self, dependent, exog, weights, check_rank)\u001b[0m\n\u001b[0;32m    287\u001b[0m         \u001b[0mcheck_rank\u001b[0m\u001b[1;33m:\u001b[0m \u001b[0mbool\u001b[0m \u001b[1;33m=\u001b[0m \u001b[1;32mTrue\u001b[0m\u001b[1;33m,\u001b[0m\u001b[1;33m\u001b[0m\u001b[1;33m\u001b[0m\u001b[0m\n\u001b[0;32m    288\u001b[0m     ) -> None:\n\u001b[1;32m--> 289\u001b[1;33m         \u001b[0mself\u001b[0m\u001b[1;33m.\u001b[0m\u001b[0mdependent\u001b[0m \u001b[1;33m=\u001b[0m \u001b[0mPanelData\u001b[0m\u001b[1;33m(\u001b[0m\u001b[0mdependent\u001b[0m\u001b[1;33m,\u001b[0m \u001b[1;34m\"Dep\"\u001b[0m\u001b[1;33m)\u001b[0m\u001b[1;33m\u001b[0m\u001b[1;33m\u001b[0m\u001b[0m\n\u001b[0m\u001b[0;32m    290\u001b[0m         \u001b[0mself\u001b[0m\u001b[1;33m.\u001b[0m\u001b[0mexog\u001b[0m \u001b[1;33m=\u001b[0m \u001b[0mPanelData\u001b[0m\u001b[1;33m(\u001b[0m\u001b[0mexog\u001b[0m\u001b[1;33m,\u001b[0m \u001b[1;34m\"Exog\"\u001b[0m\u001b[1;33m)\u001b[0m\u001b[1;33m\u001b[0m\u001b[1;33m\u001b[0m\u001b[0m\n\u001b[0;32m    291\u001b[0m         \u001b[0mself\u001b[0m\u001b[1;33m.\u001b[0m\u001b[0m_original_shape\u001b[0m \u001b[1;33m=\u001b[0m \u001b[0mself\u001b[0m\u001b[1;33m.\u001b[0m\u001b[0mdependent\u001b[0m\u001b[1;33m.\u001b[0m\u001b[0mshape\u001b[0m\u001b[1;33m\u001b[0m\u001b[1;33m\u001b[0m\u001b[0m\n",
      "\u001b[1;32mF:\\anaconda3\\lib\\site-packages\\linearmodels\\panel\\data.py\u001b[0m in \u001b[0;36m__init__\u001b[1;34m(self, x, var_name, convert_dummies, drop_first, copy)\u001b[0m\n\u001b[0;32m    215\u001b[0m             \u001b[0mx\u001b[0m \u001b[1;33m=\u001b[0m \u001b[0mDataFrame\u001b[0m\u001b[1;33m(\u001b[0m\u001b[0mx\u001b[0m\u001b[1;33m)\u001b[0m\u001b[1;33m\u001b[0m\u001b[1;33m\u001b[0m\u001b[0m\n\u001b[0;32m    216\u001b[0m         \u001b[1;32melif\u001b[0m \u001b[0misinstance\u001b[0m\u001b[1;33m(\u001b[0m\u001b[0mx\u001b[0m\u001b[1;33m,\u001b[0m \u001b[0mSeries\u001b[0m\u001b[1;33m)\u001b[0m\u001b[1;33m:\u001b[0m\u001b[1;33m\u001b[0m\u001b[1;33m\u001b[0m\u001b[0m\n\u001b[1;32m--> 217\u001b[1;33m             \u001b[1;32mraise\u001b[0m \u001b[0mValueError\u001b[0m\u001b[1;33m(\u001b[0m\u001b[1;34m\"Series can only be used with a 2-level MultiIndex\"\u001b[0m\u001b[1;33m)\u001b[0m\u001b[1;33m\u001b[0m\u001b[1;33m\u001b[0m\u001b[0m\n\u001b[0m\u001b[0;32m    218\u001b[0m \u001b[1;33m\u001b[0m\u001b[0m\n\u001b[0;32m    219\u001b[0m         \u001b[1;32mif\u001b[0m \u001b[0misinstance\u001b[0m\u001b[1;33m(\u001b[0m\u001b[0mx\u001b[0m\u001b[1;33m,\u001b[0m \u001b[0mDataFrame\u001b[0m\u001b[1;33m)\u001b[0m\u001b[1;33m:\u001b[0m\u001b[1;33m\u001b[0m\u001b[1;33m\u001b[0m\u001b[0m\n",
      "\u001b[1;31mValueError\u001b[0m: Series can only be used with a 2-level MultiIndex"
     ]
    }
   ],
   "source": [
    "# Perform PooledOLS\n",
    "exog = sm.tools.tools.add_constant(white_beans[['latitude', 'longitude']])\n",
    "endog = white_beans['usdprice']\n",
    "mod = PooledOLS(endog, exog)\n",
    "pooledOLS_res = mod.fit(cov_type='clustered', cluster_entity=True)\n",
    "# Store values for checking homoskedasticity graphically\n",
    "fittedvals_pooled_OLS = pooledOLS_res.predict().fitted_values\n",
    "residuals_pooled_OLS = pooledOLS_res.resids"
   ]
  },
  {
   "cell_type": "code",
   "execution_count": null,
   "id": "ae0a4c0d",
   "metadata": {},
   "outputs": [],
   "source": []
  }
 ],
 "metadata": {
  "kernelspec": {
   "display_name": "Python 3 (ipykernel)",
   "language": "python",
   "name": "python3"
  },
  "language_info": {
   "codemirror_mode": {
    "name": "ipython",
    "version": 3
   },
   "file_extension": ".py",
   "mimetype": "text/x-python",
   "name": "python",
   "nbconvert_exporter": "python",
   "pygments_lexer": "ipython3",
   "version": "3.9.13"
  }
 },
 "nbformat": 4,
 "nbformat_minor": 5
}
