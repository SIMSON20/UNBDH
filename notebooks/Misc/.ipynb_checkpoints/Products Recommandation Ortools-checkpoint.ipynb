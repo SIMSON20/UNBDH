{
 "cells": [
  {
   "cell_type": "code",
   "execution_count": 1,
   "id": "572f2351",
   "metadata": {},
   "outputs": [],
   "source": [
    "import os \n",
    "\n",
    "import numpy as np \n",
    "import pandas as pd\n",
    "\n",
    "from tqdm import tqdm\n",
    "\n",
    "# import the folium library\n",
    "import folium\n",
    "\n",
    "import matplotlib.pyplot as plt \n",
    "plt.style.use('fivethirtyeight')\n",
    "\n",
    "import gurobipy as gp \n",
    "from gurobipy import GRB"
   ]
  },
  {
   "cell_type": "code",
   "execution_count": 2,
   "id": "9e97a3d9",
   "metadata": {},
   "outputs": [],
   "source": [
    "wfp_ghana = pd.read_csv(\"../data/wfp_food_prices_gha_2019_2022_retail.csv\")\n",
    "wfp_ghana.drop(0, inplace=True)"
   ]
  },
  {
   "cell_type": "code",
   "execution_count": 3,
   "id": "8fd526ef",
   "metadata": {},
   "outputs": [],
   "source": [
    "# convert to datetime\n",
    "wfp_ghana[\"date\"] = pd.to_datetime(wfp_ghana[\"date\"])\n",
    "\n",
    "wfp_ghana[\"latitude\"] = pd.to_numeric(wfp_ghana[\"latitude\"])\n",
    "wfp_ghana[\"longitude\"] = pd.to_numeric(wfp_ghana[\"longitude\"])\n",
    "wfp_ghana[\"price\"] = pd.to_numeric(wfp_ghana[\"price\"])\n",
    "wfp_ghana[\"usdprice\"] = pd.to_numeric(wfp_ghana[\"usdprice\"])"
   ]
  },
  {
   "cell_type": "markdown",
   "id": "ea7a470c",
   "metadata": {},
   "source": [
    "## Optimization"
   ]
  },
  {
   "cell_type": "markdown",
   "id": "e52233bf",
   "metadata": {},
   "source": [
    "For every market, let be:\n",
    "+ Indices\n",
    "    \n",
    "    - i: commodity per category, $\\in \\{1, ..., 10\\}$\n",
    "    - j: category number, $\\in \\{1, ..., 4\\}$\n",
    "\n",
    "+ Variables\n",
    "\n",
    "    - $A_{ij}$: Quantity of commodity i from category j. \n",
    "    \n",
    "\n",
    "+ Parameters\n",
    "    - $P_{ij}$: Price of commodity i from category j.\n",
    "    - $M_{j}$: Maximum quantity of commodities from category j to comsume per month\n",
    "    - $B$: Mensual budget of the consumer\n",
    "\n",
    "+ Objective\n",
    "\n",
    "    Min $\\sum_{i=1}^{10}\\sum_{j=1}^{4}P_{ij}\\times A_{ij}$\n",
    "\n",
    "+ Constraints\n",
    "\n",
    "    $\\sum_{i=1}^{10}A_{ij} \\geq M_{j}$, $\\forall j$ \n",
    "    \n",
    "    $\\sum_{i=1}^{10}\\sum_{j=1}^{4}P_{ij}\\times A_{ij} \\leq B$"
   ]
  },
  {
   "cell_type": "code",
   "execution_count": 4,
   "id": "f3458545",
   "metadata": {
    "scrolled": true
   },
   "outputs": [],
   "source": [
    "prices_per_market_oct = wfp_ghana.loc[wfp_ghana.date==\"2022-10-15\"]#.groupby([\"market\",\"category\", \"commodity\"], as_index=False)[\"price\"].mean()"
   ]
  },
  {
   "cell_type": "code",
   "execution_count": 5,
   "id": "fd4bfc06",
   "metadata": {},
   "outputs": [],
   "source": [
    "accra = prices_per_market_oct.loc[prices_per_market_oct.market==\"Accra\"]"
   ]
  },
  {
   "cell_type": "code",
   "execution_count": null,
   "id": "e9134093",
   "metadata": {},
   "outputs": [],
   "source": []
  }
 ],
 "metadata": {
  "kernelspec": {
   "display_name": "Python 3 (ipykernel)",
   "language": "python",
   "name": "python3"
  },
  "language_info": {
   "codemirror_mode": {
    "name": "ipython",
    "version": 3
   },
   "file_extension": ".py",
   "mimetype": "text/x-python",
   "name": "python",
   "nbconvert_exporter": "python",
   "pygments_lexer": "ipython3",
   "version": "3.9.13"
  }
 },
 "nbformat": 4,
 "nbformat_minor": 5
}
