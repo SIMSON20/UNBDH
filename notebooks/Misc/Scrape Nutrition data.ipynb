{
 "cells": [
  {
   "cell_type": "code",
   "execution_count": 28,
   "id": "d2319ae5",
   "metadata": {},
   "outputs": [],
   "source": [
    "import pandas as pd # library for data analysis\n",
    "import requests # library to handle requests\n",
    "from bs4 import BeautifulSoup # library to parse HTML documents"
   ]
  },
  {
   "cell_type": "code",
   "execution_count": 29,
   "id": "a3668787",
   "metadata": {},
   "outputs": [],
   "source": [
    "ghana_ret_data = pd.read_csv(\"../data/wfp_food_prices_gha_2019_2022_retail.csv\")"
   ]
  },
  {
   "cell_type": "code",
   "execution_count": 30,
   "id": "9321f2b5",
   "metadata": {},
   "outputs": [
    {
     "data": {
      "text/plain": [
       "array(['Cassava', 'Gari', 'Maize', 'Maize (yellow)', 'Millet',\n",
       "       'Rice (imported)', 'Rice (local)', 'Sorghum', 'Yam',\n",
       "       'Fish (mackerel, fresh)', 'Cowpeas', 'Soybeans', 'Eggplants',\n",
       "       'Onions', 'Peppers (dried)', 'Peppers (fresh)', 'Plantains (apem)',\n",
       "       'Plantains (apentu)', 'Tomatoes (local)', 'Tomatoes (navrongo)',\n",
       "       'Yam (puna)', 'Meat (chicken)'], dtype=object)"
      ]
     },
     "execution_count": 30,
     "metadata": {},
     "output_type": "execute_result"
    }
   ],
   "source": [
    "ghana_ret_data.commodity.unique()"
   ]
  },
  {
   "cell_type": "code",
   "execution_count": 31,
   "id": "882bcf61",
   "metadata": {},
   "outputs": [],
   "source": [
    "def get_nutrition_data(commodity):\n",
    "    # get the response in the form of html\n",
    "    wikiurl=f\"https://www.nutrition-and-you.com/{commodity}.html\"\n",
    "    table_class=\"w3-table-all w3-centered\"\n",
    "    response=requests.get(wikiurl)\n",
    "#     print(response.status_code)\n",
    "    # parse data from the html into a beautifulsoup object\n",
    "    soup = BeautifulSoup(response.text, 'html.parser')\n",
    "    indiatable=soup.findAll('table',{'class':\"w3-table-all\"})\n",
    "    df=pd.read_html(str(indiatable[2]))\n",
    "    # convert list to dataframe\n",
    "    df=pd.DataFrame(df[0])\n",
    "    df[\"commodity\"] = commodity\n",
    "    return df"
   ]
  },
  {
   "cell_type": "code",
   "execution_count": 33,
   "id": "e2ffc74c",
   "metadata": {},
   "outputs": [],
   "source": [
    "get_nutrition_data(\"cassava\").to_csv(\"../data/nutrients/cassava.csv\", index=False)"
   ]
  },
  {
   "cell_type": "code",
   "execution_count": null,
   "id": "c18fb826",
   "metadata": {},
   "outputs": [],
   "source": []
  }
 ],
 "metadata": {
  "kernelspec": {
   "display_name": "Python 3 (ipykernel)",
   "language": "python",
   "name": "python3"
  },
  "language_info": {
   "codemirror_mode": {
    "name": "ipython",
    "version": 3
   },
   "file_extension": ".py",
   "mimetype": "text/x-python",
   "name": "python",
   "nbconvert_exporter": "python",
   "pygments_lexer": "ipython3",
   "version": "3.9.13"
  }
 },
 "nbformat": 4,
 "nbformat_minor": 5
}
